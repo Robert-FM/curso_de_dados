{
 "cells": [
  {
   "cell_type": "code",
   "execution_count": 59,
   "id": "7a30edba",
   "metadata": {},
   "outputs": [],
   "source": [
    "#Abrindo o arquivo para leitura\n",
    "arq1 = open('arquivos/arquivo1.txt','r')"
   ]
  },
  {
   "cell_type": "code",
   "execution_count": 60,
   "id": "c7abd675",
   "metadata": {},
   "outputs": [
    {
     "data": {
      "text/plain": [
       "_io.TextIOWrapper"
      ]
     },
     "execution_count": 60,
     "metadata": {},
     "output_type": "execute_result"
    }
   ],
   "source": [
    "type(arq1)"
   ]
  },
  {
   "cell_type": "code",
   "execution_count": 61,
   "id": "4fd2fb20",
   "metadata": {},
   "outputs": [
    {
     "name": "stdout",
     "output_type": "stream",
     "text": [
      "A Data Science Academy fornece cursos de alta qualidade e que transmitem muito conhecimento.\n"
     ]
    }
   ],
   "source": [
    "#Lendo o arquivo\n",
    "print(arq1.read())"
   ]
  },
  {
   "cell_type": "code",
   "execution_count": 62,
   "id": "2779d3ff",
   "metadata": {},
   "outputs": [
    {
     "name": "stdout",
     "output_type": "stream",
     "text": [
      "92\n"
     ]
    }
   ],
   "source": [
    "#Contar o número de caracteres\n",
    "print(arq1.tell())"
   ]
  },
  {
   "cell_type": "code",
   "execution_count": 63,
   "id": "a92e0f8b",
   "metadata": {},
   "outputs": [
    {
     "name": "stdout",
     "output_type": "stream",
     "text": [
      "\n"
     ]
    }
   ],
   "source": [
    "print(arq1.read())"
   ]
  },
  {
   "cell_type": "code",
   "execution_count": 64,
   "id": "0cdadc1e",
   "metadata": {},
   "outputs": [
    {
     "name": "stdout",
     "output_type": "stream",
     "text": [
      "0\n"
     ]
    }
   ],
   "source": [
    "#Retornar para o início do arquivo\n",
    "print(arq1.seek(0,0))"
   ]
  },
  {
   "cell_type": "code",
   "execution_count": 65,
   "id": "f73947cc",
   "metadata": {},
   "outputs": [
    {
     "name": "stdout",
     "output_type": "stream",
     "text": [
      "A Data Science Academy \n"
     ]
    }
   ],
   "source": [
    "print(arq1.read(23))"
   ]
  },
  {
   "cell_type": "code",
   "execution_count": 66,
   "id": "9c9cd8fb",
   "metadata": {},
   "outputs": [
    {
     "name": "stdout",
     "output_type": "stream",
     "text": [
      "fornece cursos de alta qualidade e que transmitem muito conhecimento.\n"
     ]
    }
   ],
   "source": [
    "print(arq1.read())"
   ]
  },
  {
   "cell_type": "code",
   "execution_count": 67,
   "id": "8966305f",
   "metadata": {},
   "outputs": [],
   "source": [
    "#Abrindo o arquivo para gravação\n",
    "arq2 = open('arquivos/aquivo2.txt','w') #w = write "
   ]
  },
  {
   "cell_type": "code",
   "execution_count": 68,
   "id": "1820ada9",
   "metadata": {},
   "outputs": [],
   "source": [
    "#print(arq2.read())"
   ]
  },
  {
   "cell_type": "code",
   "execution_count": 69,
   "id": "3349fa78",
   "metadata": {},
   "outputs": [
    {
     "data": {
      "text/plain": [
       "13"
      ]
     },
     "execution_count": 69,
     "metadata": {},
     "output_type": "execute_result"
    }
   ],
   "source": [
    "arq2.write('Eu amo a Déa ')"
   ]
  },
  {
   "cell_type": "code",
   "execution_count": 70,
   "id": "8c1f5c55",
   "metadata": {},
   "outputs": [],
   "source": [
    "arq2.close()"
   ]
  },
  {
   "cell_type": "code",
   "execution_count": 71,
   "id": "9957289d",
   "metadata": {},
   "outputs": [],
   "source": [
    "arq2 = open('arquivos/aquivo2.txt','r')"
   ]
  },
  {
   "cell_type": "code",
   "execution_count": 72,
   "id": "a4326f94",
   "metadata": {},
   "outputs": [
    {
     "name": "stdout",
     "output_type": "stream",
     "text": [
      "Eu amo a Déa \n"
     ]
    }
   ],
   "source": [
    "print(arq2.read())"
   ]
  },
  {
   "cell_type": "code",
   "execution_count": 73,
   "id": "cbee012f",
   "metadata": {},
   "outputs": [],
   "source": [
    "arq2 = open('arquivos/aquivo2.txt','a')"
   ]
  },
  {
   "cell_type": "code",
   "execution_count": 74,
   "id": "95890507",
   "metadata": {},
   "outputs": [
    {
     "data": {
      "text/plain": [
       "10"
      ]
     },
     "execution_count": 74,
     "metadata": {},
     "output_type": "execute_result"
    }
   ],
   "source": [
    "arq2.write('e a Circe.')"
   ]
  },
  {
   "cell_type": "code",
   "execution_count": 75,
   "id": "29538a70",
   "metadata": {},
   "outputs": [],
   "source": [
    "arq2.close()"
   ]
  },
  {
   "cell_type": "code",
   "execution_count": 76,
   "id": "808b0358",
   "metadata": {},
   "outputs": [],
   "source": [
    "arq2 = open('arquivos/aquivo2.txt','r')"
   ]
  },
  {
   "cell_type": "code",
   "execution_count": 77,
   "id": "fade01d3",
   "metadata": {},
   "outputs": [
    {
     "name": "stdout",
     "output_type": "stream",
     "text": [
      "Eu amo a Déa e a Circe.\n"
     ]
    }
   ],
   "source": [
    "print(arq2.read())"
   ]
  },
  {
   "cell_type": "code",
   "execution_count": 78,
   "id": "6ff29a7a",
   "metadata": {},
   "outputs": [
    {
     "name": "stdout",
     "output_type": "stream",
     "text": [
      "0\n"
     ]
    }
   ],
   "source": [
    "print(arq2.seek(0,0))"
   ]
  },
  {
   "cell_type": "code",
   "execution_count": 79,
   "id": "a7678702",
   "metadata": {},
   "outputs": [
    {
     "name": "stdout",
     "output_type": "stream",
     "text": [
      "Eu amo a Déa e a Circe.\n"
     ]
    }
   ],
   "source": [
    "print(arq2.read())"
   ]
  }
 ],
 "metadata": {
  "kernelspec": {
   "display_name": "Python 3",
   "language": "python",
   "name": "python3"
  },
  "language_info": {
   "codemirror_mode": {
    "name": "ipython",
    "version": 3
   },
   "file_extension": ".py",
   "mimetype": "text/x-python",
   "name": "python",
   "nbconvert_exporter": "python",
   "pygments_lexer": "ipython3",
   "version": "3.13.4"
  }
 },
 "nbformat": 4,
 "nbformat_minor": 5
}
