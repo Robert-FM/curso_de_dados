{
 "cells": [
  {
   "cell_type": "code",
   "execution_count": 25,
   "id": "b14d536d",
   "metadata": {},
   "outputs": [],
   "source": [
    "#Função Python que retorna um número ao quadrado\n",
    "def pontencia(x):\n",
    "    return x ** 2"
   ]
  },
  {
   "cell_type": "code",
   "execution_count": 26,
   "id": "5f9ee202",
   "metadata": {},
   "outputs": [],
   "source": [
    "numeros = list(range(1,6))"
   ]
  },
  {
   "cell_type": "code",
   "execution_count": 27,
   "id": "d959223d",
   "metadata": {},
   "outputs": [],
   "source": [
    "numeros_ao_quadrado = list(map(pontencia,numeros))"
   ]
  },
  {
   "cell_type": "code",
   "execution_count": 28,
   "id": "e435180e",
   "metadata": {},
   "outputs": [
    {
     "name": "stdout",
     "output_type": "stream",
     "text": [
      "[1, 4, 9, 16, 25]\n"
     ]
    }
   ],
   "source": [
    "print(numeros_ao_quadrado)"
   ]
  },
  {
   "cell_type": "code",
   "execution_count": 29,
   "id": "38635ddd",
   "metadata": {},
   "outputs": [],
   "source": [
    "#Criando duas funções\n",
    "\n",
    "#Função 1 - Conversão de temperatura de celsius para fahrenheit\n",
    "def fahrenheit(T):\n",
    "    return (9/5)*T + 32\n",
    "\n",
    "#Função 2 - Conversão de temperatura de fahrenheit para celsius\n",
    "def celsius(T):\n",
    "    return ((5/9)*(T-32))"
   ]
  },
  {
   "cell_type": "code",
   "execution_count": 30,
   "id": "3da39818",
   "metadata": {},
   "outputs": [],
   "source": [
    "temperaturas = [0,22.5,40,100]"
   ]
  },
  {
   "cell_type": "code",
   "execution_count": 31,
   "id": "6e9db5f2",
   "metadata": {},
   "outputs": [
    {
     "name": "stdout",
     "output_type": "stream",
     "text": [
      "[32.0, 72.5, 104.0, 212.0]\n",
      "[-17.77777777777778, -5.277777777777778, 4.444444444444445, 37.77777777777778]\n"
     ]
    }
   ],
   "source": [
    "#Aplicando a função a cada elemento da lista de temperaturas\n",
    "#Em python 3, a função map() retorna um iterador\n",
    "#Função map() retornando a lista de temperatura convertidas em fahrenheit\n",
    "print(list(map(fahrenheit,temperaturas)))\n",
    "#Função map() retornando a lista de temperatura convertidas em celsius\n",
    "print(list(map(celsius,temperaturas)))"
   ]
  },
  {
   "cell_type": "code",
   "execution_count": 33,
   "id": "ba63a8ec",
   "metadata": {},
   "outputs": [
    {
     "name": "stdout",
     "output_type": "stream",
     "text": [
      "32.0\n",
      "72.5\n",
      "104.0\n",
      "212.0\n",
      "\n",
      "-17.77777777777778\n",
      "-5.277777777777778\n",
      "4.444444444444445\n",
      "37.77777777777778\n"
     ]
    }
   ],
   "source": [
    "#Usando um loop for para imprimir o resultado da função map()\n",
    "for t in map(fahrenheit,temperaturas):\n",
    "    print(t)\n",
    "print()\n",
    "for t in map(celsius,temperaturas):\n",
    "    print(t)"
   ]
  },
  {
   "cell_type": "code",
   "execution_count": 34,
   "id": "296be2e5",
   "metadata": {},
   "outputs": [
    {
     "data": {
      "text/plain": [
       "[-17.77777777777778, -5.277777777777778, 4.444444444444445, 37.77777777777778]"
      ]
     },
     "execution_count": 34,
     "metadata": {},
     "output_type": "execute_result"
    }
   ],
   "source": [
    "#Usando expressão lambda\n",
    "list(map(lambda T: ((5/9)*(T-32)),temperaturas))"
   ]
  },
  {
   "cell_type": "code",
   "execution_count": 37,
   "id": "2151dc33",
   "metadata": {},
   "outputs": [],
   "source": [
    "a = list(range(1,5))\n",
    "b = list(range(5,9))"
   ]
  },
  {
   "cell_type": "code",
   "execution_count": 38,
   "id": "0c6ded0c",
   "metadata": {},
   "outputs": [
    {
     "data": {
      "text/plain": [
       "[6, 8, 10, 12]"
      ]
     },
     "execution_count": 38,
     "metadata": {},
     "output_type": "execute_result"
    }
   ],
   "source": [
    "list(map(lambda x,y: x+y,a,b))"
   ]
  },
  {
   "cell_type": "code",
   "execution_count": 40,
   "id": "7b1ea382",
   "metadata": {},
   "outputs": [],
   "source": [
    "a = list(range(1,5))\n",
    "b = list(range(5,9))\n",
    "c = list(range(9,13))"
   ]
  },
  {
   "cell_type": "code",
   "execution_count": 41,
   "id": "e64851ff",
   "metadata": {},
   "outputs": [
    {
     "data": {
      "text/plain": [
       "[15, 18, 21, 24]"
      ]
     },
     "execution_count": 41,
     "metadata": {},
     "output_type": "execute_result"
    }
   ],
   "source": [
    "list(map(lambda x,y,z:x+y+z,a,b,c))"
   ]
  }
 ],
 "metadata": {
  "kernelspec": {
   "display_name": "Python 3",
   "language": "python",
   "name": "python3"
  },
  "language_info": {
   "codemirror_mode": {
    "name": "ipython",
    "version": 3
   },
   "file_extension": ".py",
   "mimetype": "text/x-python",
   "name": "python",
   "nbconvert_exporter": "python",
   "pygments_lexer": "ipython3",
   "version": "3.13.4"
  }
 },
 "nbformat": 4,
 "nbformat_minor": 5
}
