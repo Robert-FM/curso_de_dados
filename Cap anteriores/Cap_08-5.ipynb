{
 "cells": [
  {
   "cell_type": "code",
   "execution_count": 11,
   "id": "6403733a",
   "metadata": {},
   "outputs": [],
   "source": [
    "#Super-classe\n",
    "class Veiculo():\n",
    "    def __init__(self,marca,modelo):\n",
    "        self.marca = marca\n",
    "        self.modelo = modelo\n",
    "    \n",
    "    def acelerar(self):\n",
    "        pass\n",
    "\n",
    "    def frear(self):\n",
    "        pass"
   ]
  },
  {
   "cell_type": "code",
   "execution_count": 12,
   "id": "a5973ea8",
   "metadata": {},
   "outputs": [],
   "source": [
    "#Subclasse\n",
    "class Carro(Veiculo):\n",
    "    def acelerar(self):\n",
    "        print(f'O carro está acelerando!')\n",
    "    def frear(self):\n",
    "        print(f'O carro está freando!')"
   ]
  },
  {
   "cell_type": "code",
   "execution_count": 13,
   "id": "952ed305",
   "metadata": {},
   "outputs": [],
   "source": [
    "#Subclasse\n",
    "class Moto(Veiculo):\n",
    "    def acelerar(self):\n",
    "        print(f'A moto está acelerando')\n",
    "    def frear(self):\n",
    "        print(f'A moto está freando!')"
   ]
  },
  {
   "cell_type": "code",
   "execution_count": 14,
   "id": "cf010043",
   "metadata": {},
   "outputs": [],
   "source": [
    "#Subclasse\n",
    "class Aviao(Veiculo):\n",
    "    def acelerar(self):\n",
    "        print(f'O avião está acelerando!')\n",
    "    def frear(self):\n",
    "        print(f'O avião está freando!')\n",
    "    def decolar(self):\n",
    "        print(f'O avião está decolando!')"
   ]
  },
  {
   "cell_type": "code",
   "execution_count": 15,
   "id": "f24de7e1",
   "metadata": {},
   "outputs": [],
   "source": [
    "#Criar os objetos \n",
    "lista_veiculos = [Carro('Porsche','911 Turbo'),Moto('Honda','CB 100 Black Edition'),Aviao('Boeing','757')]"
   ]
  },
  {
   "cell_type": "code",
   "execution_count": 16,
   "id": "0a564168",
   "metadata": {},
   "outputs": [
    {
     "data": {
      "text/plain": [
       "list"
      ]
     },
     "execution_count": 16,
     "metadata": {},
     "output_type": "execute_result"
    }
   ],
   "source": [
    "type(lista_veiculos)"
   ]
  },
  {
   "cell_type": "code",
   "execution_count": 17,
   "id": "dc3cb975",
   "metadata": {},
   "outputs": [
    {
     "name": "stdout",
     "output_type": "stream",
     "text": [
      "O carro está acelerando!\n",
      "O carro está freando!\n",
      "---\n",
      "A moto está acelerando\n",
      "A moto está freando!\n",
      "---\n",
      "O avião está acelerando!\n",
      "O avião está freando!\n",
      "O avião está decolando!\n",
      "---\n"
     ]
    }
   ],
   "source": [
    "#Loop\n",
    "for item in lista_veiculos:\n",
    "\n",
    "    #O método acelerar tem comportamento diferente dependendo do tipo de objeto\n",
    "    item.acelerar()\n",
    "\n",
    "    #O método frear tem comportamento diferente dependendo do tipo de objeto\n",
    "    item.frear()\n",
    "    \n",
    "    # Executamos o método decolar somente se o o objeto for instancia da classe Aviao\n",
    "    if isinstance(item,Aviao):\n",
    "        item.decolar()\n",
    "\n",
    "    print(f'---')"
   ]
  }
 ],
 "metadata": {
  "kernelspec": {
   "display_name": "Python 3",
   "language": "python",
   "name": "python3"
  },
  "language_info": {
   "codemirror_mode": {
    "name": "ipython",
    "version": 3
   },
   "file_extension": ".py",
   "mimetype": "text/x-python",
   "name": "python",
   "nbconvert_exporter": "python",
   "pygments_lexer": "ipython3",
   "version": "3.13.4"
  }
 },
 "nbformat": 4,
 "nbformat_minor": 5
}
