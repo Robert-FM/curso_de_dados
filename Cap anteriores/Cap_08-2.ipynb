{
 "cells": [
  {
   "cell_type": "code",
   "execution_count": 118,
   "id": "a77c0f8f",
   "metadata": {},
   "outputs": [],
   "source": [
    "lst_num = ['Data','Science','Academy',10,10]"
   ]
  },
  {
   "cell_type": "code",
   "execution_count": 119,
   "id": "d1c13ede",
   "metadata": {},
   "outputs": [
    {
     "data": {
      "text/plain": [
       "list"
      ]
     },
     "execution_count": 119,
     "metadata": {},
     "output_type": "execute_result"
    }
   ],
   "source": [
    "type(lst_num)"
   ]
  },
  {
   "cell_type": "code",
   "execution_count": 120,
   "id": "ba317a31",
   "metadata": {},
   "outputs": [
    {
     "name": "stdout",
     "output_type": "stream",
     "text": [
      "<class 'list'>\n"
     ]
    }
   ],
   "source": [
    "print(type([]))"
   ]
  },
  {
   "cell_type": "code",
   "execution_count": 121,
   "id": "cfe0e2c3",
   "metadata": {},
   "outputs": [
    {
     "data": {
      "text/plain": [
       "2"
      ]
     },
     "execution_count": 121,
     "metadata": {},
     "output_type": "execute_result"
    }
   ],
   "source": [
    "lst_num.count(10)"
   ]
  },
  {
   "cell_type": "code",
   "execution_count": 122,
   "id": "b00fb796",
   "metadata": {},
   "outputs": [
    {
     "name": "stdout",
     "output_type": "stream",
     "text": [
      "<class 'int'>\n",
      "<class 'list'>\n",
      "<class 'tuple'>\n",
      "<class 'dict'>\n",
      "<class 'str'>\n"
     ]
    }
   ],
   "source": [
    "print(type(10))\n",
    "print(type([]))\n",
    "print(type(()))\n",
    "print(type({}))\n",
    "print(type('a'))"
   ]
  },
  {
   "cell_type": "code",
   "execution_count": 123,
   "id": "1bfa392f",
   "metadata": {},
   "outputs": [],
   "source": [
    "#Criando um novo tipo de objeto chamado Carro\n",
    "class Carro():\n",
    "    pass"
   ]
  },
  {
   "cell_type": "code",
   "execution_count": 124,
   "id": "3a57c8e6",
   "metadata": {},
   "outputs": [],
   "source": [
    "ferrari = Carro()"
   ]
  },
  {
   "cell_type": "code",
   "execution_count": 125,
   "id": "83e30cc8",
   "metadata": {},
   "outputs": [
    {
     "name": "stdout",
     "output_type": "stream",
     "text": [
      "<class '__main__.Carro'>\n"
     ]
    }
   ],
   "source": [
    "print(type(ferrari))"
   ]
  },
  {
   "cell_type": "code",
   "execution_count": 126,
   "id": "274199eb",
   "metadata": {},
   "outputs": [],
   "source": [
    "#Criando uma classe\n",
    "class Estudantes():\n",
    "    def __init__(self,nome,idade,nota):\n",
    "        self.nome = nome\n",
    "        self.idade = idade\n",
    "        self.nota = nota"
   ]
  },
  {
   "cell_type": "code",
   "execution_count": 127,
   "id": "a97bf76d",
   "metadata": {},
   "outputs": [],
   "source": [
    "#Criando um objeto chamado Estudante1 a partir da classe Estudante\n",
    "Estudante1 = Estudantes('Bob',12,9.5)"
   ]
  },
  {
   "cell_type": "code",
   "execution_count": 128,
   "id": "228b44ee",
   "metadata": {},
   "outputs": [
    {
     "data": {
      "text/plain": [
       "'Bob'"
      ]
     },
     "execution_count": 128,
     "metadata": {},
     "output_type": "execute_result"
    }
   ],
   "source": [
    "#Atributo da classe Estudante, utilizado por cada objeto criado a partir desta classe\n",
    "Estudante1.nome"
   ]
  },
  {
   "cell_type": "code",
   "execution_count": 129,
   "id": "ed0d68b5",
   "metadata": {},
   "outputs": [
    {
     "data": {
      "text/plain": [
       "12"
      ]
     },
     "execution_count": 129,
     "metadata": {},
     "output_type": "execute_result"
    }
   ],
   "source": [
    "#Atributo da classe Estudante, utilizado por cada objeto criado a partir desta classe\n",
    "Estudante1.idade"
   ]
  },
  {
   "cell_type": "code",
   "execution_count": 130,
   "id": "33e88278",
   "metadata": {},
   "outputs": [
    {
     "data": {
      "text/plain": [
       "9.5"
      ]
     },
     "execution_count": 130,
     "metadata": {},
     "output_type": "execute_result"
    }
   ],
   "source": [
    "#Atributo da classe Estudante, utilizado por cada objeto criado a partir desta classe\n",
    "Estudante1.nota"
   ]
  },
  {
   "cell_type": "code",
   "execution_count": 131,
   "id": "1dbd1092",
   "metadata": {},
   "outputs": [],
   "source": [
    "class Funcionarios():\n",
    "    def __init__(self,nome,salario,cargo):\n",
    "        self.nome = nome\n",
    "        self.salario = salario\n",
    "        self.cargo = cargo\n",
    "        \n",
    "    def listFunc(self):\n",
    "        print(f'Colaborador(a) {self.nome} tem salário de R$ {str(self.salario)} e ocupa o cargo é {self.cargo}.')"
   ]
  },
  {
   "cell_type": "code",
   "execution_count": 132,
   "id": "dc3ad875",
   "metadata": {},
   "outputs": [],
   "source": [
    "#Criando um objeto chamado Funcl a partir da classe Funcionarios\n",
    "Func1 = Funcionarios('Andrea',2000,'Cientista de Dados')"
   ]
  },
  {
   "cell_type": "code",
   "execution_count": 133,
   "id": "cc6be455",
   "metadata": {},
   "outputs": [
    {
     "name": "stdout",
     "output_type": "stream",
     "text": [
      "Colaborador(a) Andrea tem salário de R$ 2000 e ocupa o cargo é Cientista de Dados.\n"
     ]
    }
   ],
   "source": [
    "#Usando o método da classe\n",
    "Func1.listFunc()"
   ]
  },
  {
   "cell_type": "code",
   "execution_count": 134,
   "id": "296dd28f",
   "metadata": {},
   "outputs": [
    {
     "name": "stdout",
     "output_type": "stream",
     "text": [
      "*****Usando atributos*****\n"
     ]
    }
   ],
   "source": [
    "print(f'*****Usando atributos*****')"
   ]
  },
  {
   "cell_type": "code",
   "execution_count": 135,
   "id": "c1168347",
   "metadata": {},
   "outputs": [
    {
     "data": {
      "text/plain": [
       "True"
      ]
     },
     "execution_count": 135,
     "metadata": {},
     "output_type": "execute_result"
    }
   ],
   "source": [
    "hasattr(Func1,'nome')"
   ]
  },
  {
   "cell_type": "code",
   "execution_count": 136,
   "id": "045141bd",
   "metadata": {},
   "outputs": [
    {
     "data": {
      "text/plain": [
       "True"
      ]
     },
     "execution_count": 136,
     "metadata": {},
     "output_type": "execute_result"
    }
   ],
   "source": [
    "hasattr(Func1,'salario')"
   ]
  },
  {
   "cell_type": "code",
   "execution_count": 137,
   "id": "02114567",
   "metadata": {},
   "outputs": [],
   "source": [
    "setattr(Func1,'salario',4500)"
   ]
  },
  {
   "cell_type": "code",
   "execution_count": 138,
   "id": "794c0509",
   "metadata": {},
   "outputs": [
    {
     "data": {
      "text/plain": [
       "True"
      ]
     },
     "execution_count": 138,
     "metadata": {},
     "output_type": "execute_result"
    }
   ],
   "source": [
    "hasattr(Func1,'salario')"
   ]
  },
  {
   "cell_type": "code",
   "execution_count": 139,
   "id": "e3e37184",
   "metadata": {},
   "outputs": [
    {
     "data": {
      "text/plain": [
       "4500"
      ]
     },
     "execution_count": 139,
     "metadata": {},
     "output_type": "execute_result"
    }
   ],
   "source": [
    "getattr(Func1,'salario')"
   ]
  },
  {
   "cell_type": "code",
   "execution_count": 140,
   "id": "784099db",
   "metadata": {},
   "outputs": [
    {
     "data": {
      "text/plain": [
       "'Andrea'"
      ]
     },
     "execution_count": 140,
     "metadata": {},
     "output_type": "execute_result"
    }
   ],
   "source": [
    "getattr(Func1,'nome')"
   ]
  },
  {
   "cell_type": "code",
   "execution_count": 141,
   "id": "5fbe2fbe",
   "metadata": {},
   "outputs": [],
   "source": [
    "delattr(Func1,'salario')"
   ]
  },
  {
   "cell_type": "code",
   "execution_count": 142,
   "id": "5467a693",
   "metadata": {},
   "outputs": [
    {
     "data": {
      "text/plain": [
       "False"
      ]
     },
     "execution_count": 142,
     "metadata": {},
     "output_type": "execute_result"
    }
   ],
   "source": [
    "hasattr(Func1,'salario')"
   ]
  }
 ],
 "metadata": {
  "kernelspec": {
   "display_name": "Python 3",
   "language": "python",
   "name": "python3"
  },
  "language_info": {
   "codemirror_mode": {
    "name": "ipython",
    "version": 3
   },
   "file_extension": ".py",
   "mimetype": "text/x-python",
   "name": "python",
   "nbconvert_exporter": "python",
   "pygments_lexer": "ipython3",
   "version": "3.13.4"
  }
 },
 "nbformat": 4,
 "nbformat_minor": 5
}
