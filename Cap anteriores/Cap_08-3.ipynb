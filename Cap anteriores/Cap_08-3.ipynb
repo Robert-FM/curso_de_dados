{
 "cells": [
  {
   "cell_type": "code",
   "execution_count": 85,
   "id": "a10f2b7f",
   "metadata": {},
   "outputs": [],
   "source": [
    "#Criando uma classe chamada de circulo\n",
    "class Circulo():\n",
    "    #O valor de pi é constante\n",
    "    pi = 3.141\n",
    "    # Quando um objeto desta classe for criado, este método será executado e o valor default do raio será 5.\n",
    "    def __init__(self,raio=5):\n",
    "        self.raio = raio\n",
    "    # Esse método calcula a área.\n",
    "    def area(self):\n",
    "        return (self.raio**2)*Circulo.pi\n",
    "    # Método para gerar un novo raio\n",
    "    def setRaio(self,novo_raio):\n",
    "        self.raio = novo_raio\n",
    "    # Método para obter o raio do círculo\n",
    "    def getRaio(self):\n",
    "        return self.raio"
   ]
  },
  {
   "cell_type": "code",
   "execution_count": 86,
   "id": "4058cea0",
   "metadata": {},
   "outputs": [],
   "source": [
    "# Criando o objeto circ, uma instância da classe Circulo( )\n",
    "circ = Circulo()"
   ]
  },
  {
   "cell_type": "code",
   "execution_count": 87,
   "id": "a2205677",
   "metadata": {},
   "outputs": [
    {
     "data": {
      "text/plain": [
       "5"
      ]
     },
     "execution_count": 87,
     "metadata": {},
     "output_type": "execute_result"
    }
   ],
   "source": [
    "# Executando um método da classe Circulo\n",
    "circ.getRaio()"
   ]
  },
  {
   "cell_type": "code",
   "execution_count": 88,
   "id": "0d4e7259",
   "metadata": {},
   "outputs": [],
   "source": [
    "# Criando outro objeto chamado circl. Uma instância da classe Circulo( )\n",
    "# Agora sobrescrevendo o valor do atributo\n",
    "circ1 = Circulo(7)"
   ]
  },
  {
   "cell_type": "code",
   "execution_count": 89,
   "id": "192f7766",
   "metadata": {},
   "outputs": [
    {
     "data": {
      "text/plain": [
       "7"
      ]
     },
     "execution_count": 89,
     "metadata": {},
     "output_type": "execute_result"
    }
   ],
   "source": [
    "circ1.getRaio()"
   ]
  },
  {
   "cell_type": "code",
   "execution_count": 90,
   "id": "3e49bdd9",
   "metadata": {},
   "outputs": [
    {
     "name": "stdout",
     "output_type": "stream",
     "text": [
      "O raio é: 5\n"
     ]
    }
   ],
   "source": [
    "#Imprimindo o raio\n",
    "print(f'O raio é: {circ.getRaio()}')"
   ]
  },
  {
   "cell_type": "code",
   "execution_count": 91,
   "id": "eff2c9f1",
   "metadata": {},
   "outputs": [
    {
     "name": "stdout",
     "output_type": "stream",
     "text": [
      "A área é: 78.525\n"
     ]
    }
   ],
   "source": [
    "#Imprimindo o area\n",
    "print(f'A área é: {circ.area()}')"
   ]
  },
  {
   "cell_type": "code",
   "execution_count": 92,
   "id": "68774374",
   "metadata": {},
   "outputs": [
    {
     "name": "stdout",
     "output_type": "stream",
     "text": [
      "A área é: 153.909\n"
     ]
    }
   ],
   "source": [
    "#Imprimindo o area\n",
    "print(f'A área é: {circ1.area()}')"
   ]
  },
  {
   "cell_type": "code",
   "execution_count": 93,
   "id": "8f164251",
   "metadata": {},
   "outputs": [],
   "source": [
    "circ.setRaio(3)"
   ]
  },
  {
   "cell_type": "code",
   "execution_count": 94,
   "id": "b6d79e3b",
   "metadata": {},
   "outputs": [
    {
     "name": "stdout",
     "output_type": "stream",
     "text": [
      "O raio é: 3\n"
     ]
    }
   ],
   "source": [
    "#Imprimindo o area\n",
    "print(f'O raio é: {circ.getRaio()}')"
   ]
  }
 ],
 "metadata": {
  "kernelspec": {
   "display_name": "Python 3",
   "language": "python",
   "name": "python3"
  },
  "language_info": {
   "codemirror_mode": {
    "name": "ipython",
    "version": 3
   },
   "file_extension": ".py",
   "mimetype": "text/x-python",
   "name": "python",
   "nbconvert_exporter": "python",
   "pygments_lexer": "ipython3",
   "version": "3.13.4"
  }
 },
 "nbformat": 4,
 "nbformat_minor": 5
}
