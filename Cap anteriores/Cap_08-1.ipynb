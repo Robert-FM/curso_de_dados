{
 "cells": [
  {
   "cell_type": "code",
   "execution_count": 50,
   "id": "b12d8d3e",
   "metadata": {},
   "outputs": [],
   "source": [
    "class Livro():\n",
    "    def __init__(self):\n",
    "        self.titulo = 'Mãos à Obra: Aprendizado de Máquina com Scikit-Learn, Keras & TensorFlow: Conceitos, Ferramentas e Técnicas Para a Construção de Sistemas Inteligentes'\n",
    "        self.isbn = 8550815489\n",
    "        print('Construtor é chamado para criar um objeto desta classe.')\n",
    "\n",
    "    def Imprime(self):\n",
    "        print(f'Foi criado o livro {self.titulo} com isbn {self.isbn}.')"
   ]
  },
  {
   "cell_type": "code",
   "execution_count": 51,
   "id": "7a29f943",
   "metadata": {},
   "outputs": [
    {
     "name": "stdout",
     "output_type": "stream",
     "text": [
      "Construtor é chamado para criar um objeto desta classe.\n"
     ]
    }
   ],
   "source": [
    "Livro1 = Livro()"
   ]
  },
  {
   "cell_type": "code",
   "execution_count": 52,
   "id": "b8dd5c05",
   "metadata": {},
   "outputs": [
    {
     "data": {
      "text/plain": [
       "__main__.Livro"
      ]
     },
     "execution_count": 52,
     "metadata": {},
     "output_type": "execute_result"
    }
   ],
   "source": [
    "type(Livro1)"
   ]
  },
  {
   "cell_type": "code",
   "execution_count": 53,
   "id": "3799fd2d",
   "metadata": {},
   "outputs": [
    {
     "data": {
      "text/plain": [
       "'Mãos à Obra: Aprendizado de Máquina com Scikit-Learn, Keras & TensorFlow: Conceitos, Ferramentas e Técnicas Para a Construção de Sistemas Inteligentes'"
      ]
     },
     "execution_count": 53,
     "metadata": {},
     "output_type": "execute_result"
    }
   ],
   "source": [
    "Livro1.titulo"
   ]
  },
  {
   "cell_type": "code",
   "execution_count": 54,
   "id": "8299e12d",
   "metadata": {},
   "outputs": [
    {
     "data": {
      "text/plain": [
       "8550815489"
      ]
     },
     "execution_count": 54,
     "metadata": {},
     "output_type": "execute_result"
    }
   ],
   "source": [
    "Livro1.isbn"
   ]
  },
  {
   "cell_type": "code",
   "execution_count": 55,
   "id": "f9a6702c",
   "metadata": {},
   "outputs": [
    {
     "name": "stdout",
     "output_type": "stream",
     "text": [
      "Foi criado o livro Mãos à Obra: Aprendizado de Máquina com Scikit-Learn, Keras & TensorFlow: Conceitos, Ferramentas e Técnicas Para a Construção de Sistemas Inteligentes com isbn 8550815489.\n"
     ]
    }
   ],
   "source": [
    "Livro1.Imprime()"
   ]
  },
  {
   "cell_type": "code",
   "execution_count": 56,
   "id": "c18280a7",
   "metadata": {},
   "outputs": [],
   "source": [
    "class Livro():\n",
    "    def __init__(self,titulo,isbn):\n",
    "        self.titulo = titulo\n",
    "        self.isbn = isbn\n",
    "        print('Construtor é chamado para criar um objeto desta classe.')\n",
    "\n",
    "    def Imprime(self):\n",
    "        print(f'Foi criado o livro {self.titulo} com isbn {self.isbn}.')"
   ]
  },
  {
   "cell_type": "code",
   "execution_count": 57,
   "id": "33e5c0eb",
   "metadata": {},
   "outputs": [
    {
     "name": "stdout",
     "output_type": "stream",
     "text": [
      "Construtor é chamado para criar um objeto desta classe.\n"
     ]
    }
   ],
   "source": [
    "Livro2 = Livro('O Poder do hábito',77886611)"
   ]
  },
  {
   "cell_type": "code",
   "execution_count": 58,
   "id": "c3f50dd8",
   "metadata": {},
   "outputs": [
    {
     "data": {
      "text/plain": [
       "'O Poder do hábito'"
      ]
     },
     "execution_count": 58,
     "metadata": {},
     "output_type": "execute_result"
    }
   ],
   "source": [
    "Livro2.titulo"
   ]
  },
  {
   "cell_type": "code",
   "execution_count": 59,
   "id": "93d9b2f5",
   "metadata": {},
   "outputs": [
    {
     "data": {
      "text/plain": [
       "77886611"
      ]
     },
     "execution_count": 59,
     "metadata": {},
     "output_type": "execute_result"
    }
   ],
   "source": [
    "Livro2.isbn"
   ]
  },
  {
   "cell_type": "code",
   "execution_count": 60,
   "id": "98b4769e",
   "metadata": {},
   "outputs": [
    {
     "name": "stdout",
     "output_type": "stream",
     "text": [
      "Foi criado o livro O Poder do hábito com isbn 77886611.\n"
     ]
    }
   ],
   "source": [
    "Livro2.Imprime()"
   ]
  },
  {
   "cell_type": "code",
   "execution_count": 61,
   "id": "54910389",
   "metadata": {},
   "outputs": [],
   "source": [
    "class Algoritmo():\n",
    "    def __init__(self,tipo_algo):\n",
    "        self.tipo = tipo_algo\n",
    "        print('Construtor é chamado para criar um objeto desta classe.')"
   ]
  },
  {
   "cell_type": "code",
   "execution_count": 62,
   "id": "8379453a",
   "metadata": {},
   "outputs": [
    {
     "name": "stdout",
     "output_type": "stream",
     "text": [
      "Construtor é chamado para criar um objeto desta classe.\n"
     ]
    }
   ],
   "source": [
    "algo1 = Algoritmo(tipo_algo='Random Florest')"
   ]
  },
  {
   "cell_type": "code",
   "execution_count": 63,
   "id": "2093c73e",
   "metadata": {},
   "outputs": [
    {
     "name": "stdout",
     "output_type": "stream",
     "text": [
      "Construtor é chamado para criar um objeto desta classe.\n"
     ]
    }
   ],
   "source": [
    "algo2 = Algoritmo(tipo_algo='Deep Learning')"
   ]
  },
  {
   "cell_type": "code",
   "execution_count": 67,
   "id": "e6d60c0b",
   "metadata": {},
   "outputs": [
    {
     "data": {
      "text/plain": [
       "'Random Florest'"
      ]
     },
     "execution_count": 67,
     "metadata": {},
     "output_type": "execute_result"
    }
   ],
   "source": [
    "algo1.tipo"
   ]
  },
  {
   "cell_type": "code",
   "execution_count": 68,
   "id": "3d0db640",
   "metadata": {},
   "outputs": [
    {
     "data": {
      "text/plain": [
       "'Deep Learning'"
      ]
     },
     "execution_count": 68,
     "metadata": {},
     "output_type": "execute_result"
    }
   ],
   "source": [
    "algo2.tipo"
   ]
  },
  {
   "cell_type": "markdown",
   "id": "1fc4d7eb",
   "metadata": {},
   "source": [
    "###FIM"
   ]
  }
 ],
 "metadata": {
  "kernelspec": {
   "display_name": "Python 3",
   "language": "python",
   "name": "python3"
  },
  "language_info": {
   "codemirror_mode": {
    "name": "ipython",
    "version": 3
   },
   "file_extension": ".py",
   "mimetype": "text/x-python",
   "name": "python",
   "nbconvert_exporter": "python",
   "pygments_lexer": "ipython3",
   "version": "3.13.4"
  }
 },
 "nbformat": 4,
 "nbformat_minor": 5
}
