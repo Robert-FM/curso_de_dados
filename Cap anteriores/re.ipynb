{
 "cells": [
  {
   "cell_type": "code",
   "execution_count": 2,
   "id": "bd3ad96f",
   "metadata": {},
   "outputs": [],
   "source": [
    "import re"
   ]
  },
  {
   "cell_type": "code",
   "execution_count": 3,
   "id": "7b7f0742",
   "metadata": {},
   "outputs": [],
   "source": [
    "musica = '''\n",
    "Meu partido\n",
    "É um coração partido\n",
    "E as ilusões\n",
    "Estão todas perdidas\n",
    "\n",
    "Os meus sonhos\n",
    "Foram todos vendidos\n",
    "Tão barato que eu nem acredito\n",
    "Ah, eu nem acredito\n",
    "\n",
    "Que aquele garoto que ia mudar o mundo\n",
    "Mudar o mundo\n",
    "Frequenta agora\n",
    "As festas do Grand Monde\n",
    "\n",
    "Meus heróis\n",
    "Morreram de overdose\n",
    "Meus inimigos\n",
    "Estão no poder\n",
    "\n",
    "Ideologia\n",
    "Eu quero uma pra viver\n",
    "Ideologia\n",
    "Eu quero uma pra viver\n",
    "\n",
    "O meu prazer\n",
    "Agora é risco de vida\n",
    "Meu sex and drugs\n",
    "Não tem nenhum rock 'n' roll\n",
    "\n",
    "Eu vou pagar\n",
    "A conta do analista\n",
    "Pra nunca mais ter que saber quem eu sou\n",
    "Ah, saber quem eu sou\n",
    "\n",
    "Pois aquele garoto que ia mudar o mundo\n",
    "Mudar o mundo\n",
    "Agora assiste a tudo em cima do muro\n",
    "Em cima do muro\n",
    "\n",
    "Meus heróis\n",
    "Morreram de overdose, é\n",
    "Meus inimigos\n",
    "Estão no poder\n",
    "\n",
    "Ideologia\n",
    "Eu quero uma pra viver\n",
    "Ideologia\n",
    "Pra viver\n",
    "\n",
    "Pois aquele garoto que ia mudar o mundo\n",
    "Mudar o mundo\n",
    "Agora assiste a tudo em cima do muro\n",
    "Em cima do muro\n",
    "\n",
    "Meus heróis\n",
    "Morreram de overdose\n",
    "Meus inimigos\n",
    "Estão no poder\n",
    "\n",
    "Ideologia\n",
    "Eu quero uma pra viver\n",
    "Ideologia\n",
    "Eu quero uma pra viver\n",
    "\n",
    "Ideologia\n",
    "Pra viver\n",
    "Ideologia\n",
    "Eu quero uma pra viver\n",
    "\n",
    "'''"
   ]
  },
  {
   "cell_type": "code",
   "execution_count": 4,
   "id": "12da3b92",
   "metadata": {},
   "outputs": [
    {
     "name": "stdout",
     "output_type": "stream",
     "text": [
      "\n",
      "Meu partido\n",
      "É um coração partido\n",
      "E as ilusões\n",
      "Estão todas perdidas\n",
      "\n",
      "Os meus sonhos\n",
      "Foram todos vendidos\n",
      "Tão barato que eu nem acredito\n",
      "Ah, eu nem acredito\n",
      "\n",
      "Que aquele garoto que ia mudar o mundo\n",
      "Mudar o mundo\n",
      "Frequenta agora\n",
      "As festas do Grand Monde\n",
      "\n",
      "Meus heróis\n",
      "Morreram de overdose\n",
      "Meus inimigos\n",
      "Estão no poder\n",
      "\n",
      "Ideologia\n",
      "Eu quero uma pra viver\n",
      "Ideologia\n",
      "Eu quero uma pra viver\n",
      "\n",
      "O meu prazer\n",
      "Agora é risco de vida\n",
      "Meu sex and drugs\n",
      "Não tem nenhum rock 'n' roll\n",
      "\n",
      "Eu vou pagar\n",
      "A conta do analista\n",
      "Pra nunca mais ter que saber quem eu sou\n",
      "Ah, saber quem eu sou\n",
      "\n",
      "Pois aquele garoto que ia mudar o mundo\n",
      "Mudar o mundo\n",
      "Agora assiste a tudo em cima do muro\n",
      "Em cima do muro\n",
      "\n",
      "Meus heróis\n",
      "Morreram de overdose, é\n",
      "Meus inimigos\n",
      "Estão no poder\n",
      "\n",
      "Ideologia\n",
      "Eu quero uma pra viver\n",
      "Ideologia\n",
      "Pra viver\n",
      "\n",
      "Pois aquele garoto que ia mudar o mundo\n",
      "Mudar o mundo\n",
      "Agora assiste a tudo em cima do muro\n",
      "Em cima do muro\n",
      "\n",
      "Meus heróis\n",
      "Morreram de overdose\n",
      "Meus inimigos\n",
      "Estão no poder\n",
      "\n",
      "Ideologia\n",
      "Eu quero uma pra viver\n",
      "Ideologia\n",
      "Eu quero uma pra viver\n",
      "\n",
      "Ideologia\n",
      "Pra viver\n",
      "Ideologia\n",
      "Eu quero uma pra viver\n",
      "\n",
      "\n"
     ]
    }
   ],
   "source": [
    "print(musica)"
   ]
  },
  {
   "cell_type": "code",
   "execution_count": 5,
   "id": "6e0c503b",
   "metadata": {},
   "outputs": [],
   "source": [
    "# 1- Crie um REGEX para contar quantas vezes o caracter \"a\" aparece em todo o texto da música. ok\n",
    "# 2- Crie um REGEX em Python para contar quantas vezes a palavra ideologia aparece na música. ok\n",
    "# 3- Crie um REGEX em Python para extrair as palavras seguidas por exclamação.\n",
    "# 4- Crie um REGEX que extrai qualquer palavra cujo antecessor seja a palavra \"esse\" e o sucessor seja a palavra \"amargo\" em um texto.\n",
    "# 5- Crie um REGEX que retorne as palavras com acento, mas somente os caracteres na palavra que são anteriores ao caracter com acento.\n"
   ]
  },
  {
   "cell_type": "code",
   "execution_count": 6,
   "id": "9480b7bf",
   "metadata": {},
   "outputs": [
    {
     "name": "stdout",
     "output_type": "stream",
     "text": [
      "O caractere 'a' apareceu 81 vezes no texto.\n"
     ]
    }
   ],
   "source": [
    "#1- Crie um REGEX para contar quantas vezes o caracter \"a\" aparece em todo o texto da música.\n",
    "quant_a = len(re.findall('a',musica,))\n",
    "print(\"O caractere 'a' apareceu\", quant_a, \"vezes no texto.\")"
   ]
  },
  {
   "cell_type": "code",
   "execution_count": 7,
   "id": "e24b84ef",
   "metadata": {},
   "outputs": [
    {
     "name": "stdout",
     "output_type": "stream",
     "text": [
      "A palavra \"ideologia\" aparece 8 vezes.\n"
     ]
    }
   ],
   "source": [
    "# 2- Crie um REGEX em Python para contar quantas vezes a palavra ideologia aparece na música.\n",
    "# quant_ideologia = len(re.findall(r'\\bideologia\\b',musica,flags=re.IGNORECASE))\n",
    "quant_ideologia = len(re.findall('ideologia',musica,flags=re.IGNORECASE))\n",
    "print(f'A palavra \"ideologia\" aparece {quant_ideologia} vezes.')"
   ]
  },
  {
   "cell_type": "code",
   "execution_count": 8,
   "id": "e8e12d58",
   "metadata": {},
   "outputs": [
    {
     "name": "stdout",
     "output_type": "stream",
     "text": [
      "As palavras seguindas por exclamação são: []\n"
     ]
    }
   ],
   "source": [
    "# 3- Crie um REGEX em Python para extrair as palavras seguidas por exclamação.\n",
    "quant_excl = re.findall(r'\\b\\w+!',musica)\n",
    "print(f'As palavras seguindas por exclamação são: {quant_excl}')"
   ]
  },
  {
   "cell_type": "code",
   "execution_count": 9,
   "id": "0bd74764",
   "metadata": {},
   "outputs": [
    {
     "name": "stdout",
     "output_type": "stream",
     "text": [
      "['de', 'de', 'de']\n"
     ]
    }
   ],
   "source": [
    "# 4- Crie um REGEX que extrai qualquer palavra cujo antecessor seja a palavra \"esse\" e o sucessor seja a palavra \"amargo\" em um texto.\n",
    "#resultado4 = re.findall(r'\\b\\w+(?=\\s+partido)',musica)\n",
    "#resultado4 = re.findall(r'Morreram\\s(\\w+)\\soverdose',musica)\n",
    "resultado4 = re.findall(r'\\bMorreram\\s(\\w+)\\soverdose\\b',musica)\n",
    "print(f'{resultado4}')\n"
   ]
  },
  {
   "cell_type": "code",
   "execution_count": 10,
   "id": "0677dd02",
   "metadata": {},
   "outputs": [
    {
     "name": "stdout",
     "output_type": "stream",
     "text": [
      "['coraçã', 'ilusõ', 'Estã', 'Tã', 'heró', 'Estã', 'Nã', 'heró', 'Estã', 'heró', 'Estã']\n"
     ]
    }
   ],
   "source": [
    "# 5- Crie um REGEX que retorne as palavras com acento, mas somente os caracteres na palavra que são anteriores ao caracter com acento.\n",
    "regex = r'\\b[\\wÀ-ÿ]+[áéíóúãõç]'\n",
    "\n",
    "resultados = re.findall(regex, musica, re.IGNORECASE)\n",
    "\n",
    "print(resultados)"
   ]
  },
  {
   "cell_type": "code",
   "execution_count": 12,
   "id": "31916360",
   "metadata": {},
   "outputs": [
    {
     "name": "stdout",
     "output_type": "stream",
     "text": [
      "Meu número é XXXXX\n"
     ]
    }
   ],
   "source": [
    "texto = \"Meu número é 12345\"\n",
    "resultado = re.sub(r\"\\d+\", \"XXXXX\", texto)\n",
    "\n",
    "print(resultado)  # Meu número é XXXXX\n"
   ]
  }
 ],
 "metadata": {
  "kernelspec": {
   "display_name": "Python 3",
   "language": "python",
   "name": "python3"
  },
  "language_info": {
   "codemirror_mode": {
    "name": "ipython",
    "version": 3
   },
   "file_extension": ".py",
   "mimetype": "text/x-python",
   "name": "python",
   "nbconvert_exporter": "python",
   "pygments_lexer": "ipython3",
   "version": "3.13.4"
  }
 },
 "nbformat": 4,
 "nbformat_minor": 5
}
