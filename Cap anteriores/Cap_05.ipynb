{
 "cells": [
  {
   "cell_type": "code",
   "execution_count": 77,
   "id": "97377741",
   "metadata": {},
   "outputs": [],
   "source": [
    "lista1 = [0,1,2,3,4]\n",
    "lista2 = [1,2,3]"
   ]
  },
  {
   "cell_type": "code",
   "execution_count": 78,
   "id": "0a6e1806",
   "metadata": {},
   "outputs": [
    {
     "name": "stdout",
     "output_type": "stream",
     "text": [
      "0*1 = 0\n",
      "0*2 = 0\n",
      "0*3 = 0\n",
      "---\n",
      "1*1 = 1\n",
      "1*2 = 2\n",
      "1*3 = 3\n",
      "---\n",
      "2*1 = 2\n",
      "2*2 = 4\n",
      "2*3 = 6\n",
      "---\n",
      "3*1 = 3\n",
      "3*2 = 6\n",
      "3*3 = 9\n",
      "---\n",
      "4*1 = 4\n",
      "4*2 = 8\n",
      "4*3 = 12\n",
      "---\n"
     ]
    }
   ],
   "source": [
    "for i in lista1:\n",
    "    for j in lista2:\n",
    "        print(f'{i}*{j} = {i*j}')\n",
    "    print('---')"
   ]
  },
  {
   "cell_type": "code",
   "execution_count": 79,
   "id": "0eaf3b06",
   "metadata": {},
   "outputs": [
    {
     "name": "stdout",
     "output_type": "stream",
     "text": [
      "O número 47 está nas duas listas.\n"
     ]
    }
   ],
   "source": [
    "lista1 = [10,16,24,39,47]\n",
    "lista2 = [32,89,47,12]\n",
    "\n",
    "for i in lista1:\n",
    "    for j in lista2:\n",
    "        if i == 47 and j == 47:\n",
    "            print(f'O número 47 está nas duas listas.')"
   ]
  },
  {
   "cell_type": "code",
   "execution_count": 80,
   "id": "a3c61500",
   "metadata": {},
   "outputs": [
    {
     "name": "stdout",
     "output_type": "stream",
     "text": [
      "170\n"
     ]
    }
   ],
   "source": [
    "lista1 = [10,16,24,39,47]\n",
    "lista2 = [32,89,47,76,12]\n",
    "soma = 0\n",
    "\n",
    "for l in [lista1,lista2]:\n",
    "    for n in l:\n",
    "        if n % 2 == 0:\n",
    "            soma += n\n",
    "print(soma)\n"
   ]
  },
  {
   "cell_type": "code",
   "execution_count": 81,
   "id": "539f55b1",
   "metadata": {},
   "outputs": [
    {
     "name": "stdout",
     "output_type": "stream",
     "text": [
      "170\n"
     ]
    }
   ],
   "source": [
    "lista1 = [10,16,24,39,47]\n",
    "lista2 = [32,89,47,76,12]\n",
    "soma = 0\n",
    "\n",
    "for n in lista1+lista2:\n",
    "    if n % 2 == 0:\n",
    "        soma += n\n",
    "print(soma)"
   ]
  },
  {
   "cell_type": "code",
   "execution_count": 82,
   "id": "054e8f40",
   "metadata": {},
   "outputs": [
    {
     "name": "stdout",
     "output_type": "stream",
     "text": [
      "Maior número: 215.\n"
     ]
    }
   ],
   "source": [
    "matriz = [[42,23,34],[100,215,114],[10.1,98.7,12.3]]\n",
    "maior_numero = 0\n",
    "\n",
    "for linha in matriz:\n",
    "    for num in linha:\n",
    "        if num > maior_numero:\n",
    "            maior_numero = num\n",
    "\n",
    "print(f'Maior número: {maior_numero}.')"
   ]
  },
  {
   "cell_type": "code",
   "execution_count": 83,
   "id": "262077c1",
   "metadata": {},
   "outputs": [
    {
     "name": "stdout",
     "output_type": "stream",
     "text": [
      "k1\n",
      "k2\n",
      "k3\n",
      "\n",
      "k1 Python\n",
      "k2 R\n",
      "k3 Scala\n"
     ]
    }
   ],
   "source": [
    "dict = {'k1':'Python','k2':'R','k3':'Scala'}\n",
    "\n",
    "for item in dict:\n",
    "    print(item)\n",
    "\n",
    "print()\n",
    "\n",
    "for k,v in dict.items():\n",
    "    print(k,v)"
   ]
  },
  {
   "cell_type": "code",
   "execution_count": 84,
   "id": "6ade6501",
   "metadata": {},
   "outputs": [
    {
     "name": "stdout",
     "output_type": "stream",
     "text": [
      "1\n",
      "2\n",
      "3\n",
      "4\n",
      "5\n",
      "6\n",
      "7\n",
      "8\n",
      "9\n",
      "10\n"
     ]
    }
   ],
   "source": [
    "valor = 1\n",
    "\n",
    "while valor <= 10:\n",
    "    print(valor)\n",
    "    valor += 1"
   ]
  },
  {
   "cell_type": "code",
   "execution_count": 85,
   "id": "45bd2fd8",
   "metadata": {},
   "outputs": [
    {
     "name": "stdout",
     "output_type": "stream",
     "text": [
      "O valor de x nesta iteração é: 0.\n",
      "x ainda é menor que 10, somando 1 a x\n",
      "O valor de x nesta iteração é: 1.\n",
      "x ainda é menor que 10, somando 1 a x\n",
      "O valor de x nesta iteração é: 2.\n",
      "x ainda é menor que 10, somando 1 a x\n",
      "O valor de x nesta iteração é: 3.\n",
      "x ainda é menor que 10, somando 1 a x\n",
      "O valor de x nesta iteração é: 4.\n",
      "x ainda é menor que 10, somando 1 a x\n",
      "O valor de x nesta iteração é: 5.\n",
      "x ainda é menor que 10, somando 1 a x\n",
      "O valor de x nesta iteração é: 6.\n",
      "x ainda é menor que 10, somando 1 a x\n",
      "O valor de x nesta iteração é: 7.\n",
      "x ainda é menor que 10, somando 1 a x\n",
      "O valor de x nesta iteração é: 8.\n",
      "x ainda é menor que 10, somando 1 a x\n",
      "O valor de x nesta iteração é: 9.\n",
      "x ainda é menor que 10, somando 1 a x\n",
      "O valor de x nesta iteração é: 10.\n",
      "x ainda é menor que 10, somando 1 a x\n",
      "Loop concluído.\n"
     ]
    }
   ],
   "source": [
    "x = 0\n",
    "\n",
    "while x <= 10:\n",
    "    print(f'O valor de x nesta iteração é: {x}.')\n",
    "    print(f'x ainda é menor que 10, somando 1 a x')\n",
    "    x += 1\n",
    "else:\n",
    "    print(f'Loop concluído.')"
   ]
  },
  {
   "cell_type": "code",
   "execution_count": 86,
   "id": "bc386ffb",
   "metadata": {},
   "outputs": [
    {
     "name": "stdout",
     "output_type": "stream",
     "text": [
      "0\n",
      "1\n",
      "2\n",
      "3\n",
      "4\n"
     ]
    }
   ],
   "source": [
    "valor = 0\n",
    "\n",
    "while valor < 10:\n",
    "    if valor == 5:\n",
    "        break\n",
    "    else:\n",
    "        pass\n",
    "    print(valor)\n",
    "    valor += 1"
   ]
  },
  {
   "cell_type": "code",
   "execution_count": 87,
   "id": "385549a9",
   "metadata": {},
   "outputs": [
    {
     "name": "stdout",
     "output_type": "stream",
     "text": [
      "P y t h o n   é     i n c r í v e l "
     ]
    }
   ],
   "source": [
    "for letra in 'Python é zzz incrível':\n",
    "    if letra == 'z':\n",
    "        continue\n",
    "    print(letra,end=' ')"
   ]
  },
  {
   "cell_type": "code",
   "execution_count": 88,
   "id": "694d8796",
   "metadata": {},
   "outputs": [
    {
     "name": "stdout",
     "output_type": "stream",
     "text": [
      "[2, 3, 5, 7, 11, 13, 17, 19, 23, 29]\n",
      "CPU times: total: 0 ns\n",
      "Wall time: 903 μs\n"
     ]
    }
   ],
   "source": [
    "%%time\n",
    "\n",
    "primos = []\n",
    "\n",
    "for n in range(2,31):\n",
    "    eh_primo = True\n",
    "    i = 2\n",
    "    while i <= n/2:\n",
    "        if n % i == 0:\n",
    "           eh_primo = False\n",
    "           break\n",
    "        i += 1\n",
    "    if eh_primo == True:\n",
    "        primos.append(n)\n",
    "print(primos)"
   ]
  },
  {
   "cell_type": "code",
   "execution_count": 89,
   "id": "22ea4e50",
   "metadata": {},
   "outputs": [
    {
     "name": "stdout",
     "output_type": "stream",
     "text": [
      "0\n",
      "-2\n",
      "-4\n",
      "-6\n",
      "-8\n",
      "-10\n",
      "-12\n",
      "-14\n",
      "-16\n",
      "-18\n"
     ]
    }
   ],
   "source": [
    "for i in range(0,-20,-2):\n",
    "    print(i)"
   ]
  },
  {
   "cell_type": "code",
   "execution_count": 90,
   "id": "f98568ae",
   "metadata": {},
   "outputs": [
    {
     "name": "stdout",
     "output_type": "stream",
     "text": [
      "Abacaxi\n",
      "Banana\n",
      "Morango\n",
      "Uva\n"
     ]
    }
   ],
   "source": [
    "frutas = ['Abacaxi', 'Banana','Morango','Uva']\n",
    "tam_frutas = len(frutas)\n",
    "\n",
    "for i in range(0,tam_frutas):\n",
    "    print(frutas[i])"
   ]
  },
  {
   "cell_type": "code",
   "execution_count": 91,
   "id": "8437e6e7",
   "metadata": {},
   "outputs": [],
   "source": [
    "lista = [10,16,24,39,47]"
   ]
  },
  {
   "cell_type": "code",
   "execution_count": 92,
   "id": "c814b667",
   "metadata": {},
   "outputs": [
    {
     "data": {
      "text/plain": [
       "[10, 16, 24, 39, 47]"
      ]
     },
     "execution_count": 92,
     "metadata": {},
     "output_type": "execute_result"
    }
   ],
   "source": [
    "lista"
   ]
  },
  {
   "cell_type": "code",
   "execution_count": 93,
   "id": "52048920",
   "metadata": {},
   "outputs": [
    {
     "name": "stdout",
     "output_type": "stream",
     "text": [
      "Help on built-in function count:\n",
      "\n",
      "count(value, /) method of builtins.list instance\n",
      "    Return number of occurrences of value.\n",
      "\n"
     ]
    }
   ],
   "source": [
    "lista.count(39)\n",
    "help(lista.count)"
   ]
  },
  {
   "cell_type": "code",
   "execution_count": 94,
   "id": "f06a231b",
   "metadata": {},
   "outputs": [
    {
     "data": {
      "text/plain": [
       "['__add__',\n",
       " '__class__',\n",
       " '__class_getitem__',\n",
       " '__contains__',\n",
       " '__delattr__',\n",
       " '__delitem__',\n",
       " '__dir__',\n",
       " '__doc__',\n",
       " '__eq__',\n",
       " '__format__',\n",
       " '__ge__',\n",
       " '__getattribute__',\n",
       " '__getitem__',\n",
       " '__getstate__',\n",
       " '__gt__',\n",
       " '__hash__',\n",
       " '__iadd__',\n",
       " '__imul__',\n",
       " '__init__',\n",
       " '__init_subclass__',\n",
       " '__iter__',\n",
       " '__le__',\n",
       " '__len__',\n",
       " '__lt__',\n",
       " '__mul__',\n",
       " '__ne__',\n",
       " '__new__',\n",
       " '__reduce__',\n",
       " '__reduce_ex__',\n",
       " '__repr__',\n",
       " '__reversed__',\n",
       " '__rmul__',\n",
       " '__setattr__',\n",
       " '__setitem__',\n",
       " '__sizeof__',\n",
       " '__str__',\n",
       " '__subclasshook__',\n",
       " 'append',\n",
       " 'clear',\n",
       " 'copy',\n",
       " 'count',\n",
       " 'extend',\n",
       " 'index',\n",
       " 'insert',\n",
       " 'pop',\n",
       " 'remove',\n",
       " 'reverse',\n",
       " 'sort']"
      ]
     },
     "execution_count": 94,
     "metadata": {},
     "output_type": "execute_result"
    }
   ],
   "source": [
    "dir(lista)"
   ]
  },
  {
   "cell_type": "code",
   "execution_count": 95,
   "id": "75abbdbd",
   "metadata": {},
   "outputs": [],
   "source": [
    "def primeiraFunc():\n",
    "    nome = 'Robert'\n",
    "    print(f'Hello {nome}')"
   ]
  },
  {
   "cell_type": "code",
   "execution_count": 96,
   "id": "0983eab9",
   "metadata": {},
   "outputs": [
    {
     "name": "stdout",
     "output_type": "stream",
     "text": [
      "Hello Robert\n"
     ]
    }
   ],
   "source": [
    "primeiraFunc()"
   ]
  },
  {
   "cell_type": "code",
   "execution_count": 97,
   "id": "f2351ed4",
   "metadata": {},
   "outputs": [],
   "source": [
    "def segundaFunc(nome):\n",
    "    print(f'Hello {nome}')"
   ]
  },
  {
   "cell_type": "code",
   "execution_count": 98,
   "id": "b6079302",
   "metadata": {},
   "outputs": [
    {
     "name": "stdout",
     "output_type": "stream",
     "text": [
      "Hello Andréa\n"
     ]
    }
   ],
   "source": [
    "segundaFunc('Andréa')"
   ]
  },
  {
   "cell_type": "code",
   "execution_count": 99,
   "id": "a43cbc49",
   "metadata": {},
   "outputs": [
    {
     "name": "stdout",
     "output_type": "stream",
     "text": [
      "Hello Yago\n"
     ]
    }
   ],
   "source": [
    "segundaFunc('Yago')"
   ]
  },
  {
   "cell_type": "code",
   "execution_count": 100,
   "id": "4fb74e60",
   "metadata": {},
   "outputs": [],
   "source": [
    "def imprimi():\n",
    "    #Loop\n",
    "    for i in range(0,5):\n",
    "        print('Número '+str(i))"
   ]
  },
  {
   "cell_type": "code",
   "execution_count": 101,
   "id": "76ac8256",
   "metadata": {},
   "outputs": [
    {
     "name": "stdout",
     "output_type": "stream",
     "text": [
      "Número 0\n",
      "Número 1\n",
      "Número 2\n",
      "Número 3\n",
      "Número 4\n"
     ]
    }
   ],
   "source": [
    "imprimi()"
   ]
  },
  {
   "cell_type": "code",
   "execution_count": 102,
   "id": "de59581d",
   "metadata": {},
   "outputs": [],
   "source": [
    "def printVarInfo(argl,*vartuple):\n",
    "    print(f'O parâmento passado foi: {argl}.')\n",
    "\n",
    "    for item in vartuple:\n",
    "        print(f'O parâmento passado foi: {item}')\n",
    "    return"
   ]
  },
  {
   "cell_type": "code",
   "execution_count": 103,
   "id": "da21988a",
   "metadata": {},
   "outputs": [
    {
     "name": "stdout",
     "output_type": "stream",
     "text": [
      "O parâmento passado foi: 10.\n"
     ]
    }
   ],
   "source": [
    "printVarInfo(10)"
   ]
  },
  {
   "cell_type": "code",
   "execution_count": 104,
   "id": "a83663b3",
   "metadata": {},
   "outputs": [
    {
     "name": "stdout",
     "output_type": "stream",
     "text": [
      "O parâmento passado foi: Chocolate.\n",
      "O parâmento passado foi: Morango\n"
     ]
    }
   ],
   "source": [
    "printVarInfo('Chocolate','Morango')"
   ]
  },
  {
   "cell_type": "code",
   "execution_count": 105,
   "id": "a9ea4b52",
   "metadata": {},
   "outputs": [
    {
     "name": "stdout",
     "output_type": "stream",
     "text": [
      "O parâmento passado foi: Data.\n",
      "O parâmento passado foi: Science\n",
      "O parâmento passado foi: Academy\n"
     ]
    }
   ],
   "source": [
    "printVarInfo('Data','Science','Academy')"
   ]
  },
  {
   "cell_type": "code",
   "execution_count": 106,
   "id": "d10e152d",
   "metadata": {},
   "outputs": [],
   "source": [
    "def split_string_palavras(text):\n",
    "    return text.split(' ')"
   ]
  },
  {
   "cell_type": "code",
   "execution_count": 107,
   "id": "8448e1a1",
   "metadata": {},
   "outputs": [],
   "source": [
    "texto = 'Está função será baste útil para separar grandes volumes de dados.'"
   ]
  },
  {
   "cell_type": "code",
   "execution_count": 108,
   "id": "66326b3c",
   "metadata": {},
   "outputs": [
    {
     "name": "stdout",
     "output_type": "stream",
     "text": [
      "['Está', 'função', 'será', 'baste', 'útil', 'para', 'separar', 'grandes', 'volumes', 'de', 'dados.']\n"
     ]
    }
   ],
   "source": [
    "print(split_string_palavras(texto))"
   ]
  },
  {
   "cell_type": "code",
   "execution_count": 109,
   "id": "abf4900a",
   "metadata": {},
   "outputs": [],
   "source": [
    "token = split_string_palavras(texto)"
   ]
  },
  {
   "cell_type": "code",
   "execution_count": 110,
   "id": "2df4d573",
   "metadata": {},
   "outputs": [
    {
     "data": {
      "text/plain": [
       "['Está',\n",
       " 'função',\n",
       " 'será',\n",
       " 'baste',\n",
       " 'útil',\n",
       " 'para',\n",
       " 'separar',\n",
       " 'grandes',\n",
       " 'volumes',\n",
       " 'de',\n",
       " 'dados.']"
      ]
     },
     "execution_count": 110,
     "metadata": {},
     "output_type": "execute_result"
    }
   ],
   "source": [
    "token"
   ]
  },
  {
   "cell_type": "code",
   "execution_count": 111,
   "id": "811c2a60",
   "metadata": {},
   "outputs": [],
   "source": [
    "def split_string_palavras(text):\n",
    "    texto = text.upper()\n",
    "    for letra in texto:\n",
    "        print(letra)"
   ]
  },
  {
   "cell_type": "code",
   "execution_count": 112,
   "id": "82cc1237",
   "metadata": {},
   "outputs": [
    {
     "name": "stdout",
     "output_type": "stream",
     "text": [
      "E\n",
      "S\n",
      "T\n",
      "Á\n",
      " \n",
      "F\n",
      "U\n",
      "N\n",
      "Ç\n",
      "Ã\n",
      "O\n",
      " \n",
      "S\n",
      "E\n",
      "R\n",
      "Á\n",
      " \n",
      "B\n",
      "A\n",
      "S\n",
      "T\n",
      "E\n",
      " \n",
      "Ú\n",
      "T\n",
      "I\n",
      "L\n",
      " \n",
      "P\n",
      "A\n",
      "R\n",
      "A\n",
      " \n",
      "S\n",
      "E\n",
      "P\n",
      "A\n",
      "R\n",
      "A\n",
      "R\n",
      " \n",
      "G\n",
      "R\n",
      "A\n",
      "N\n",
      "D\n",
      "E\n",
      "S\n",
      " \n",
      "V\n",
      "O\n",
      "L\n",
      "U\n",
      "M\n",
      "E\n",
      "S\n",
      " \n",
      "D\n",
      "E\n",
      " \n",
      "D\n",
      "A\n",
      "D\n",
      "O\n",
      "S\n",
      ".\n"
     ]
    }
   ],
   "source": [
    "split_string_palavras(texto)"
   ]
  },
  {
   "cell_type": "code",
   "execution_count": 113,
   "id": "b05eb6e2",
   "metadata": {},
   "outputs": [],
   "source": [
    "def Potencia(num):\n",
    "    resultado = num**2\n",
    "    return resultado"
   ]
  },
  {
   "cell_type": "code",
   "execution_count": 114,
   "id": "817471c0",
   "metadata": {},
   "outputs": [
    {
     "data": {
      "text/plain": [
       "25"
      ]
     },
     "execution_count": 114,
     "metadata": {},
     "output_type": "execute_result"
    }
   ],
   "source": [
    "Potencia(5)"
   ]
  },
  {
   "cell_type": "code",
   "execution_count": 115,
   "id": "116597a3",
   "metadata": {},
   "outputs": [],
   "source": [
    "def Potencia(num):\n",
    "    return num**2"
   ]
  },
  {
   "cell_type": "code",
   "execution_count": 116,
   "id": "1ac80d4f",
   "metadata": {},
   "outputs": [
    {
     "data": {
      "text/plain": [
       "25"
      ]
     },
     "execution_count": 116,
     "metadata": {},
     "output_type": "execute_result"
    }
   ],
   "source": [
    "Potencia(5)"
   ]
  },
  {
   "cell_type": "code",
   "execution_count": 117,
   "id": "8470793e",
   "metadata": {},
   "outputs": [],
   "source": [
    "def Potencia(num): return num**2"
   ]
  },
  {
   "cell_type": "code",
   "execution_count": 118,
   "id": "be0c3ee1",
   "metadata": {},
   "outputs": [
    {
     "data": {
      "text/plain": [
       "25"
      ]
     },
     "execution_count": 118,
     "metadata": {},
     "output_type": "execute_result"
    }
   ],
   "source": [
    "Potencia(5)"
   ]
  },
  {
   "cell_type": "code",
   "execution_count": 119,
   "id": "0ea329ee",
   "metadata": {},
   "outputs": [],
   "source": [
    "potencia = lambda num: num ** 2"
   ]
  },
  {
   "cell_type": "code",
   "execution_count": 120,
   "id": "db284711",
   "metadata": {},
   "outputs": [
    {
     "data": {
      "text/plain": [
       "25"
      ]
     },
     "execution_count": 120,
     "metadata": {},
     "output_type": "execute_result"
    }
   ],
   "source": [
    "potencia(5)"
   ]
  },
  {
   "cell_type": "code",
   "execution_count": 121,
   "id": "3e4d3af3",
   "metadata": {},
   "outputs": [],
   "source": [
    "par = lambda x: x % 2 == 0"
   ]
  },
  {
   "cell_type": "code",
   "execution_count": 122,
   "id": "a0f5b600",
   "metadata": {},
   "outputs": [
    {
     "data": {
      "text/plain": [
       "False"
      ]
     },
     "execution_count": 122,
     "metadata": {},
     "output_type": "execute_result"
    }
   ],
   "source": [
    "par(3)"
   ]
  },
  {
   "cell_type": "code",
   "execution_count": 123,
   "id": "3a1aee1a",
   "metadata": {},
   "outputs": [
    {
     "data": {
      "text/plain": [
       "True"
      ]
     },
     "execution_count": 123,
     "metadata": {},
     "output_type": "execute_result"
    }
   ],
   "source": [
    "par(4)"
   ]
  },
  {
   "cell_type": "code",
   "execution_count": 124,
   "id": "5eaf209b",
   "metadata": {},
   "outputs": [],
   "source": [
    "first = lambda s: s[0]"
   ]
  },
  {
   "cell_type": "code",
   "execution_count": 125,
   "id": "3402e0e5",
   "metadata": {},
   "outputs": [
    {
     "data": {
      "text/plain": [
       "'P'"
      ]
     },
     "execution_count": 125,
     "metadata": {},
     "output_type": "execute_result"
    }
   ],
   "source": [
    "first('Python')"
   ]
  },
  {
   "cell_type": "code",
   "execution_count": 126,
   "id": "55a5b1b8",
   "metadata": {},
   "outputs": [],
   "source": [
    "first = lambda s: s[::-1]"
   ]
  },
  {
   "cell_type": "code",
   "execution_count": 127,
   "id": "30991e56",
   "metadata": {},
   "outputs": [
    {
     "data": {
      "text/plain": [
       "'nohtyP'"
      ]
     },
     "execution_count": 127,
     "metadata": {},
     "output_type": "execute_result"
    }
   ],
   "source": [
    "first('Python')"
   ]
  },
  {
   "cell_type": "code",
   "execution_count": 128,
   "id": "c18ef5ff",
   "metadata": {},
   "outputs": [],
   "source": [
    "addNum = lambda x,y: x+y"
   ]
  },
  {
   "cell_type": "code",
   "execution_count": 129,
   "id": "b69f0418",
   "metadata": {},
   "outputs": [
    {
     "data": {
      "text/plain": [
       "5"
      ]
     },
     "execution_count": 129,
     "metadata": {},
     "output_type": "execute_result"
    }
   ],
   "source": [
    "addNum(2,3)"
   ]
  },
  {
   "cell_type": "code",
   "execution_count": 130,
   "id": "d7e6cdda",
   "metadata": {},
   "outputs": [
    {
     "data": {
      "text/plain": [
       "[0, 1, 2, 3, 4, 5, 6, 7, 8, 9, 10]"
      ]
     },
     "execution_count": 130,
     "metadata": {},
     "output_type": "execute_result"
    }
   ],
   "source": [
    "[x for x in range(11)]"
   ]
  },
  {
   "cell_type": "code",
   "execution_count": 131,
   "id": "91cfb5de",
   "metadata": {},
   "outputs": [],
   "source": [
    "lista_numeros = [x for x in range(11)]"
   ]
  },
  {
   "cell_type": "code",
   "execution_count": 132,
   "id": "5d8c6f55",
   "metadata": {},
   "outputs": [
    {
     "name": "stdout",
     "output_type": "stream",
     "text": [
      "[0, 1, 2, 3, 4, 5, 6, 7, 8, 9, 10]\n"
     ]
    }
   ],
   "source": [
    "print(lista_numeros)"
   ]
  },
  {
   "cell_type": "code",
   "execution_count": 133,
   "id": "83dcbdd9",
   "metadata": {},
   "outputs": [
    {
     "name": "stdout",
     "output_type": "stream",
     "text": [
      "[0, 1, 2, 3, 4]\n"
     ]
    }
   ],
   "source": [
    "lista_numeros = [x for x in range(11) if x < 5]\n",
    "print(lista_numeros)"
   ]
  },
  {
   "cell_type": "code",
   "execution_count": 134,
   "id": "ac7700f1",
   "metadata": {},
   "outputs": [],
   "source": [
    "lista_frutas = ['banana','abacate','melancia','cereja','manga']\n",
    "nova_lista = []"
   ]
  },
  {
   "cell_type": "code",
   "execution_count": 135,
   "id": "2af81592",
   "metadata": {},
   "outputs": [
    {
     "name": "stdout",
     "output_type": "stream",
     "text": [
      "['melancia', 'manga']\n",
      "CPU times: total: 0 ns\n",
      "Wall time: 595 μs\n"
     ]
    }
   ],
   "source": [
    "%%time\n",
    "for i in lista_frutas:\n",
    "    if 'm' in i:\n",
    "        nova_lista.append(i)\n",
    "\n",
    "print(nova_lista)"
   ]
  },
  {
   "cell_type": "code",
   "execution_count": 136,
   "id": "5c85e831",
   "metadata": {},
   "outputs": [
    {
     "name": "stdout",
     "output_type": "stream",
     "text": [
      "['melancia', 'manga']\n",
      "CPU times: total: 0 ns\n",
      "Wall time: 324 μs\n"
     ]
    }
   ],
   "source": [
    "%%time\n",
    "nova_lista = [i for i in lista_frutas if 'm' in i]\n",
    "print(nova_lista)"
   ]
  },
  {
   "cell_type": "code",
   "execution_count": 142,
   "id": "c3d6afc6",
   "metadata": {},
   "outputs": [
    {
     "name": "stdout",
     "output_type": "stream",
     "text": [
      "{'Bob': 68, 'Michael': 84, 'Zico': 57, 'Ana': 93}\n"
     ]
    }
   ],
   "source": [
    "dict_alunos = {'Bob':68,'Michael':84,'Zico':57,'Ana':93}\n",
    "\n",
    "dict_alunos_status = {k:v for k,v in dict_alunos.items()}\n",
    "print(dict_alunos_status)"
   ]
  },
  {
   "cell_type": "code",
   "execution_count": 145,
   "id": "84fb438b",
   "metadata": {},
   "outputs": [
    {
     "name": "stdout",
     "output_type": "stream",
     "text": [
      "{'Bob': 'Reprovado', 'Michael': 'Aprovado', 'Zico': 'Reprovado', 'Ana': 'Aprovado'}\n"
     ]
    }
   ],
   "source": [
    "dict_alunos = {'Bob':68,'Michael':84,'Zico':57,'Ana':93}\n",
    "\n",
    "dict_alunos_status = {k: ('Aprovado' if v >= 70 else 'Reprovado') for k,v in dict_alunos.items()}\n",
    "print(dict_alunos_status)"
   ]
  }
 ],
 "metadata": {
  "kernelspec": {
   "display_name": "Python 3",
   "language": "python",
   "name": "python3"
  },
  "language_info": {
   "codemirror_mode": {
    "name": "ipython",
    "version": 3
   },
   "file_extension": ".py",
   "mimetype": "text/x-python",
   "name": "python",
   "nbconvert_exporter": "python",
   "pygments_lexer": "ipython3",
   "version": "3.13.4"
  }
 },
 "nbformat": 4,
 "nbformat_minor": 5
}
