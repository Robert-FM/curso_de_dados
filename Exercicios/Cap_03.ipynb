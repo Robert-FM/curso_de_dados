{
 "cells": [
  {
   "cell_type": "markdown",
   "id": "4f13ad7e",
   "metadata": {},
   "source": [
    "#Pseudocódigo 1 - Calcular a área de um paralelogramo"
   ]
  },
  {
   "cell_type": "markdown",
   "id": "ca429d10",
   "metadata": {},
   "source": [
    "Inicie\n",
    "\n",
    "    Exiba \"Bem-vindo ao Calculadora de Área do Paralelogramo\"\n",
    "    Peça para o usuário inserir o comprimento da base\n",
    "    Armazene o comprimento da base em uma variável\n",
    "    Peça para o usuário inserir a altura\n",
    "    Armazene a altura em uma variável\n",
    "    Calcule a área do paralelogramo: base * altura\n",
    "    Armazene o resultado em uma variável\n",
    "    Exiba o resultado\n",
    "\n",
    "Fim"
   ]
  },
  {
   "cell_type": "code",
   "execution_count": 15,
   "id": "a993b517",
   "metadata": {},
   "outputs": [
    {
     "name": "stdout",
     "output_type": "stream",
     "text": [
      "Bem-vindo ao Calculadora de Área do Paralelogramo\n"
     ]
    }
   ],
   "source": [
    "print(f'Bem-vindo ao Calculadora de Área do Paralelogramo')"
   ]
  },
  {
   "cell_type": "code",
   "execution_count": 12,
   "id": "50956813",
   "metadata": {},
   "outputs": [],
   "source": [
    "h = int(input(f'Altura: '))"
   ]
  },
  {
   "cell_type": "code",
   "execution_count": 13,
   "id": "e0b4debd",
   "metadata": {},
   "outputs": [],
   "source": [
    "b = int(input(f'Base: '))"
   ]
  },
  {
   "cell_type": "code",
   "execution_count": 14,
   "id": "d2b0b77c",
   "metadata": {},
   "outputs": [
    {
     "name": "stdout",
     "output_type": "stream",
     "text": [
      "A área do paralelogramo é 24\n"
     ]
    }
   ],
   "source": [
    "def cal_area(b,h):\n",
    "    return b*h\n",
    "\n",
    "print(f'A área do paralelogramo é {cal_area(b,h)}')"
   ]
  },
  {
   "cell_type": "markdown",
   "id": "4912d543",
   "metadata": {},
   "source": [
    "#Pseudocódigo 2 - Calculadorra simples"
   ]
  },
  {
   "cell_type": "markdown",
   "id": "67662e12",
   "metadata": {},
   "source": [
    " Inicie\n",
    "\n",
    "    \"Exiba \"Bem-vindo a Calculadora\"\n",
    "    Peça ao usuário digitar o primeiro valor\n",
    "    Armazene o primeiro valor\n",
    "    Peça ao usuário dgitar o segundo valor\n",
    "    Armazene o segundo valor\n",
    "    Peça ao usuário escolher a operação matemática\n",
    "    Armazene a operação matemática escolhida\n",
    "    Realize a operação matemática escolhida pelo usuário\n",
    "    Armazene o resultado da operação\n",
    "    Exiba o resultado\n",
    "    \n",
    " Fim"
   ]
  },
  {
   "cell_type": "code",
   "execution_count": 16,
   "id": "389ac205",
   "metadata": {},
   "outputs": [
    {
     "name": "stdout",
     "output_type": "stream",
     "text": [
      "Bem-vindo a Calculadora\n"
     ]
    }
   ],
   "source": [
    "print(f'Bem-vindo a Calculadora')"
   ]
  },
  {
   "cell_type": "code",
   "execution_count": 30,
   "id": "06422c35",
   "metadata": {},
   "outputs": [],
   "source": [
    "num_1 = float(input(f'Insira o primeiro número: '))"
   ]
  },
  {
   "cell_type": "code",
   "execution_count": 31,
   "id": "aa4b07d5",
   "metadata": {},
   "outputs": [],
   "source": [
    "num_2 = float(input(f'Insira o segundo  número: '))"
   ]
  },
  {
   "cell_type": "code",
   "execution_count": 32,
   "id": "f6a8a6e9",
   "metadata": {},
   "outputs": [],
   "source": [
    "operacao = input(f'Selecione uma operação [+,-,*,/]? ')"
   ]
  },
  {
   "cell_type": "code",
   "execution_count": 33,
   "id": "f3bd840b",
   "metadata": {},
   "outputs": [
    {
     "name": "stdout",
     "output_type": "stream",
     "text": [
      "O resultado da soma é 1.0.\n"
     ]
    }
   ],
   "source": [
    "if operacao == '+':\n",
    "    soma = num_1 + num_2\n",
    "    print(f'O resultado da soma é {soma}.')\n",
    "\n",
    "elif operacao == '-':\n",
    "    subtracao = num_1 - num_2\n",
    "    print(f'O resultado da soma é {subtracao}.')\n",
    "\n",
    "elif operacao == '*':\n",
    "    multiplicacao = num_1 * num_2\n",
    "    print(f'O resultado da soma é {multiplicacao}.')\n",
    "\n",
    "elif operacao == '/':\n",
    "    divisao = num_1 / num_2\n",
    "    print(f'O resultado da soma é {divisao}.')\n",
    "\n",
    "else:\n",
    "    print(f'Operação Inválida!')"
   ]
  },
  {
   "cell_type": "markdown",
   "id": "2c08c0b1",
   "metadata": {},
   "source": [
    "```\n",
    "Para cada elemento i no array de tamanho n  \n",
    "    Para cada elemento j no array de tamanho n  \n",
    "        Se elemento i for maior que elemento j  \n",
    "            Troque os elementos i e j  \n",
    "Exiba o array ordenado\n",
    "```"
   ]
  },
  {
   "cell_type": "code",
   "execution_count": 9,
   "id": "00127c8b",
   "metadata": {},
   "outputs": [
    {
     "name": "stdout",
     "output_type": "stream",
     "text": [
      "[1, 4, 5, 6, 6, 9, 10]\n"
     ]
    }
   ],
   "source": [
    "n = [1,6,9,10,6,5,4]\n",
    "\n",
    "for i in range(len(n)):\n",
    "    for j in range(len(n)-1-i):\n",
    "        if n[j] > n[j+1]:\n",
    "            n[j],n[j+1] = n[j+1],n[j]\n",
    "print(n)"
   ]
  }
 ],
 "metadata": {
  "kernelspec": {
   "display_name": "Python 3",
   "language": "python",
   "name": "python3"
  },
  "language_info": {
   "codemirror_mode": {
    "name": "ipython",
    "version": 3
   },
   "file_extension": ".py",
   "mimetype": "text/x-python",
   "name": "python",
   "nbconvert_exporter": "python",
   "pygments_lexer": "ipython3",
   "version": "3.13.4"
  }
 },
 "nbformat": 4,
 "nbformat_minor": 5
}
