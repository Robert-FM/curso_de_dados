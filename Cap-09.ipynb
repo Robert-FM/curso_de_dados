{
 "cells": [
  {
   "cell_type": "code",
   "execution_count": 1,
   "id": "b918a26c",
   "metadata": {},
   "outputs": [
    {
     "name": "stdout",
     "output_type": "stream",
     "text": [
      "Versão da Linguagem Python Usada Neste Jupyter Notebook: 3.13.4\n"
     ]
    }
   ],
   "source": [
    "from platform import python_version\n",
    "print(f'Versão da Linguagem Python Usada Neste Jupyter Notebook: {python_version()}')"
   ]
  },
  {
   "cell_type": "markdown",
   "id": "89ec5988",
   "metadata": {},
   "source": [
    "# Numpy\n",
    "\n",
    "[https://numpy.org/](https://numpy.org/)"
   ]
  },
  {
   "cell_type": "code",
   "execution_count": 2,
   "id": "a96ed2cb",
   "metadata": {},
   "outputs": [],
   "source": [
    "import numpy as np"
   ]
  },
  {
   "cell_type": "code",
   "execution_count": 3,
   "id": "503ec968",
   "metadata": {},
   "outputs": [
    {
     "data": {
      "text/plain": [
       "'2.3.0'"
      ]
     },
     "execution_count": 3,
     "metadata": {},
     "output_type": "execute_result"
    }
   ],
   "source": [
    "np.__version__"
   ]
  },
  {
   "cell_type": "code",
   "execution_count": 4,
   "id": "acc73d71",
   "metadata": {},
   "outputs": [],
   "source": [
    "# Instrução para instalar uma versão exata do pacote em Python\n",
    "# !pip install 2.3.0"
   ]
  },
  {
   "cell_type": "code",
   "execution_count": 5,
   "id": "f42be392",
   "metadata": {},
   "outputs": [],
   "source": [
    "arrl = np.array([ 10,21,32,43,48,15,76,57,89])"
   ]
  },
  {
   "cell_type": "code",
   "execution_count": 6,
   "id": "8d1718c1",
   "metadata": {},
   "outputs": [
    {
     "name": "stdout",
     "output_type": "stream",
     "text": [
      "[10 21 32 43 48 15 76 57 89]\n"
     ]
    }
   ],
   "source": [
    "print(arrl)"
   ]
  },
  {
   "cell_type": "code",
   "execution_count": 7,
   "id": "b62ae8b3",
   "metadata": {},
   "outputs": [
    {
     "data": {
      "text/plain": [
       "array([10, 21, 32, 43, 48, 15, 76, 57, 89])"
      ]
     },
     "metadata": {},
     "output_type": "display_data"
    }
   ],
   "source": [
    "display(arrl)"
   ]
  },
  {
   "cell_type": "code",
   "execution_count": 8,
   "id": "11623e05",
   "metadata": {},
   "outputs": [
    {
     "data": {
      "text/plain": [
       "numpy.ndarray"
      ]
     },
     "execution_count": 8,
     "metadata": {},
     "output_type": "execute_result"
    }
   ],
   "source": [
    "type(arrl)"
   ]
  },
  {
   "cell_type": "code",
   "execution_count": 9,
   "id": "2a31cff8",
   "metadata": {},
   "outputs": [
    {
     "data": {
      "text/plain": [
       "(9,)"
      ]
     },
     "execution_count": 9,
     "metadata": {},
     "output_type": "execute_result"
    }
   ],
   "source": [
    "arrl.shape"
   ]
  },
  {
   "cell_type": "code",
   "execution_count": 10,
   "id": "c1b9d344",
   "metadata": {},
   "outputs": [
    {
     "name": "stdout",
     "output_type": "stream",
     "text": [
      "[10 21 32 43 48 15 76 57 89]\n"
     ]
    }
   ],
   "source": [
    "print(arrl)"
   ]
  },
  {
   "cell_type": "code",
   "execution_count": 11,
   "id": "85c16397",
   "metadata": {},
   "outputs": [
    {
     "name": "stdout",
     "output_type": "stream",
     "text": [
      "48\n"
     ]
    }
   ],
   "source": [
    "# Imprimindo um elemento específico no array\n",
    "print(arrl[4])"
   ]
  },
  {
   "cell_type": "code",
   "execution_count": 12,
   "id": "c5db7bb1",
   "metadata": {},
   "outputs": [
    {
     "name": "stdout",
     "output_type": "stream",
     "text": [
      "[21 32 43]\n"
     ]
    }
   ],
   "source": [
    "# Indexação\n",
    "print(arrl[1:4])"
   ]
  },
  {
   "cell_type": "code",
   "execution_count": 13,
   "id": "ca686c10",
   "metadata": {},
   "outputs": [
    {
     "name": "stdout",
     "output_type": "stream",
     "text": [
      "[21 32 43 48]\n"
     ]
    }
   ],
   "source": [
    "# Indexação\n",
    "print(arrl[1:4+1])"
   ]
  },
  {
   "cell_type": "code",
   "execution_count": 14,
   "id": "64a39abe",
   "metadata": {},
   "outputs": [],
   "source": [
    "# Criando  listas de índices\n",
    "indices = [1,2,5,6]"
   ]
  },
  {
   "cell_type": "code",
   "execution_count": 15,
   "id": "ef7fecb7",
   "metadata": {},
   "outputs": [
    {
     "data": {
      "text/plain": [
       "array([21, 32, 15, 76])"
      ]
     },
     "execution_count": 15,
     "metadata": {},
     "output_type": "execute_result"
    }
   ],
   "source": [
    "arrl[indices]"
   ]
  },
  {
   "cell_type": "code",
   "execution_count": 16,
   "id": "df3d3c2d",
   "metadata": {},
   "outputs": [],
   "source": [
    "# Cria uma máscara booleana para os elementos pares\n",
    "mask = (arrl % 2 == 0)"
   ]
  },
  {
   "cell_type": "code",
   "execution_count": 17,
   "id": "58953b7b",
   "metadata": {},
   "outputs": [
    {
     "data": {
      "text/plain": [
       "array([ True, False,  True, False,  True, False,  True, False, False])"
      ]
     },
     "execution_count": 17,
     "metadata": {},
     "output_type": "execute_result"
    }
   ],
   "source": [
    "mask"
   ]
  },
  {
   "cell_type": "code",
   "execution_count": 18,
   "id": "3bee552c",
   "metadata": {},
   "outputs": [
    {
     "data": {
      "text/plain": [
       "array([10, 32, 48, 76])"
      ]
     },
     "execution_count": 18,
     "metadata": {},
     "output_type": "execute_result"
    }
   ],
   "source": [
    "arrl[mask]"
   ]
  },
  {
   "cell_type": "code",
   "execution_count": 19,
   "id": "1c1d84d5",
   "metadata": {},
   "outputs": [],
   "source": [
    "# Alterando um elemento do array\n",
    "arrl[0] = 100"
   ]
  },
  {
   "cell_type": "code",
   "execution_count": 20,
   "id": "2a2c5495",
   "metadata": {},
   "outputs": [
    {
     "name": "stdout",
     "output_type": "stream",
     "text": [
      "[100  21  32  43  48  15  76  57  89]\n"
     ]
    }
   ],
   "source": [
    "print(arrl)"
   ]
  },
  {
   "cell_type": "code",
   "execution_count": 21,
   "id": "5f259016",
   "metadata": {},
   "outputs": [
    {
     "name": "stdout",
     "output_type": "stream",
     "text": [
      "Operação não permitida!\n"
     ]
    }
   ],
   "source": [
    "#Não é possível incluir elemento de outro tipo\n",
    "try:\n",
    "    arrl[0] = 'Novo elemento'\n",
    "\n",
    "except:\n",
    "    print(f'Operação não permitida!')"
   ]
  },
  {
   "cell_type": "code",
   "execution_count": 22,
   "id": "b4ee7073",
   "metadata": {},
   "outputs": [],
   "source": [
    "arr2 = np.array(list(range(1,6)))"
   ]
  },
  {
   "cell_type": "code",
   "execution_count": 23,
   "id": "11034bec",
   "metadata": {},
   "outputs": [
    {
     "name": "stdout",
     "output_type": "stream",
     "text": [
      "[1 2 3 4 5]\n"
     ]
    }
   ],
   "source": [
    "print(arr2)"
   ]
  },
  {
   "cell_type": "code",
   "execution_count": 24,
   "id": "d9aae70a",
   "metadata": {},
   "outputs": [
    {
     "data": {
      "text/plain": [
       "numpy.ndarray"
      ]
     },
     "execution_count": 24,
     "metadata": {},
     "output_type": "execute_result"
    }
   ],
   "source": [
    "type(arr2)"
   ]
  },
  {
   "cell_type": "code",
   "execution_count": 25,
   "id": "811af527",
   "metadata": {},
   "outputs": [
    {
     "data": {
      "text/plain": [
       "array([1, 2, 3, 4, 5])"
      ]
     },
     "execution_count": 25,
     "metadata": {},
     "output_type": "execute_result"
    }
   ],
   "source": [
    "arr2"
   ]
  },
  {
   "cell_type": "code",
   "execution_count": 26,
   "id": "f3dbf440",
   "metadata": {},
   "outputs": [
    {
     "data": {
      "text/plain": [
       "array([ 1,  3,  6, 10, 15])"
      ]
     },
     "execution_count": 26,
     "metadata": {},
     "output_type": "execute_result"
    }
   ],
   "source": [
    "# Usando métodos do array NumPy\n",
    "arr2.cumsum()"
   ]
  },
  {
   "cell_type": "code",
   "execution_count": 27,
   "id": "dc8110cd",
   "metadata": {},
   "outputs": [
    {
     "data": {
      "text/plain": [
       "array([  1,   2,   6,  24, 120])"
      ]
     },
     "execution_count": 27,
     "metadata": {},
     "output_type": "execute_result"
    }
   ],
   "source": [
    "arr2.cumprod()"
   ]
  },
  {
   "cell_type": "code",
   "execution_count": 28,
   "id": "4d9f89d2",
   "metadata": {},
   "outputs": [
    {
     "data": {
      "text/plain": [
       "<module 'numpy' from 'c:\\\\Users\\\\Robert Fernandes\\\\AppData\\\\Local\\\\Programs\\\\Python\\\\Python313\\\\Lib\\\\site-packages\\\\numpy\\\\__init__.py'>"
      ]
     },
     "execution_count": 28,
     "metadata": {},
     "output_type": "execute_result"
    }
   ],
   "source": [
    "np"
   ]
  },
  {
   "cell_type": "code",
   "execution_count": 29,
   "id": "6bbb429a",
   "metadata": {},
   "outputs": [],
   "source": [
    "# A função arange cria um array NumPy contendo uma progressão aritmética a partir de um intervalo — start, stop, Step\n",
    "arr3 = np.arange(0,50,5)"
   ]
  },
  {
   "cell_type": "code",
   "execution_count": 30,
   "id": "794d2c56",
   "metadata": {},
   "outputs": [
    {
     "name": "stdout",
     "output_type": "stream",
     "text": [
      "[ 0  5 10 15 20 25 30 35 40 45]\n"
     ]
    }
   ],
   "source": [
    "print(arr3)"
   ]
  },
  {
   "cell_type": "code",
   "execution_count": 31,
   "id": "c6a2221c",
   "metadata": {},
   "outputs": [
    {
     "data": {
      "text/plain": [
       "numpy.ndarray"
      ]
     },
     "execution_count": 31,
     "metadata": {},
     "output_type": "execute_result"
    }
   ],
   "source": [
    "type(arr3)"
   ]
  },
  {
   "cell_type": "code",
   "execution_count": 32,
   "id": "7c4fe96e",
   "metadata": {},
   "outputs": [
    {
     "data": {
      "text/plain": [
       "(10,)"
      ]
     },
     "execution_count": 32,
     "metadata": {},
     "output_type": "execute_result"
    }
   ],
   "source": [
    "np.shape(arr3)"
   ]
  },
  {
   "cell_type": "code",
   "execution_count": 33,
   "id": "b32a7034",
   "metadata": {},
   "outputs": [
    {
     "name": "stdout",
     "output_type": "stream",
     "text": [
      "int64\n"
     ]
    }
   ],
   "source": [
    "print(arr3.dtype)"
   ]
  },
  {
   "cell_type": "code",
   "execution_count": 34,
   "id": "19f569e1",
   "metadata": {},
   "outputs": [],
   "source": [
    "# Cria um array preenchido com zeros\n",
    "arr4 = np.zeros(10)"
   ]
  },
  {
   "cell_type": "code",
   "execution_count": 35,
   "id": "4e60b218",
   "metadata": {},
   "outputs": [
    {
     "name": "stdout",
     "output_type": "stream",
     "text": [
      "[0. 0. 0. 0. 0. 0. 0. 0. 0. 0.]\n"
     ]
    }
   ],
   "source": [
    "print(arr4)"
   ]
  },
  {
   "cell_type": "code",
   "execution_count": 36,
   "id": "fd15f4aa",
   "metadata": {},
   "outputs": [],
   "source": [
    "# Retorna 1 nas posições em diagonal e 0 no restante\n",
    "arr5 = np.eye(5)"
   ]
  },
  {
   "cell_type": "code",
   "execution_count": 37,
   "id": "8c8b2117",
   "metadata": {},
   "outputs": [
    {
     "name": "stdout",
     "output_type": "stream",
     "text": [
      "[[1. 0. 0. 0. 0.]\n",
      " [0. 1. 0. 0. 0.]\n",
      " [0. 0. 1. 0. 0.]\n",
      " [0. 0. 0. 1. 0.]\n",
      " [0. 0. 0. 0. 1.]]\n"
     ]
    }
   ],
   "source": [
    "print(arr5)"
   ]
  },
  {
   "cell_type": "code",
   "execution_count": 38,
   "id": "c2630269",
   "metadata": {},
   "outputs": [],
   "source": [
    "# Os valores passados como parâmetro, formam uma diagonal\n",
    "arr6 = np.diag(np.array(range(1,5)))"
   ]
  },
  {
   "cell_type": "code",
   "execution_count": 39,
   "id": "5e43874f",
   "metadata": {},
   "outputs": [
    {
     "name": "stdout",
     "output_type": "stream",
     "text": [
      "[[1 0 0 0]\n",
      " [0 2 0 0]\n",
      " [0 0 3 0]\n",
      " [0 0 0 4]]\n"
     ]
    }
   ],
   "source": [
    "print(arr6)"
   ]
  },
  {
   "cell_type": "code",
   "execution_count": 40,
   "id": "5749ddd5",
   "metadata": {},
   "outputs": [],
   "source": [
    "# Array de valores booleanos\n",
    "arr7 = np.array([True,False,False,True])"
   ]
  },
  {
   "cell_type": "code",
   "execution_count": 41,
   "id": "ff43703b",
   "metadata": {},
   "outputs": [
    {
     "name": "stdout",
     "output_type": "stream",
     "text": [
      "[ True False False  True]\n"
     ]
    }
   ],
   "source": [
    "print(arr7)"
   ]
  },
  {
   "cell_type": "code",
   "execution_count": 42,
   "id": "c22a58bf",
   "metadata": {},
   "outputs": [],
   "source": [
    "# Array de strings\n",
    "arr8 = np.array(['Linguagem Python','Linguagem R','Linguagem Julia'])"
   ]
  },
  {
   "cell_type": "code",
   "execution_count": 43,
   "id": "0154bff5",
   "metadata": {},
   "outputs": [
    {
     "name": "stdout",
     "output_type": "stream",
     "text": [
      "['Linguagem Python' 'Linguagem R' 'Linguagem Julia']\n"
     ]
    }
   ],
   "source": [
    "print(arr8)"
   ]
  },
  {
   "cell_type": "code",
   "execution_count": 44,
   "id": "d4e51a37",
   "metadata": {},
   "outputs": [
    {
     "name": "stdout",
     "output_type": "stream",
     "text": [
      "[ 0.          0.20408163  0.40816327  0.6122449   0.81632653  1.02040816\n",
      "  1.2244898   1.42857143  1.63265306  1.83673469  2.04081633  2.24489796\n",
      "  2.44897959  2.65306122  2.85714286  3.06122449  3.26530612  3.46938776\n",
      "  3.67346939  3.87755102  4.08163265  4.28571429  4.48979592  4.69387755\n",
      "  4.89795918  5.10204082  5.30612245  5.51020408  5.71428571  5.91836735\n",
      "  6.12244898  6.32653061  6.53061224  6.73469388  6.93877551  7.14285714\n",
      "  7.34693878  7.55102041  7.75510204  7.95918367  8.16326531  8.36734694\n",
      "  8.57142857  8.7755102   8.97959184  9.18367347  9.3877551   9.59183673\n",
      "  9.79591837 10.        ]\n"
     ]
    }
   ],
   "source": [
    "print(np.linspace(0,10))"
   ]
  },
  {
   "cell_type": "code",
   "execution_count": 45,
   "id": "993e49df",
   "metadata": {},
   "outputs": [
    {
     "name": "stdout",
     "output_type": "stream",
     "text": [
      "[ 0.          0.71428571  1.42857143  2.14285714  2.85714286  3.57142857\n",
      "  4.28571429  5.          5.71428571  6.42857143  7.14285714  7.85714286\n",
      "  8.57142857  9.28571429 10.        ]\n"
     ]
    }
   ],
   "source": [
    "print(np.linspace(0,10,15))"
   ]
  },
  {
   "cell_type": "code",
   "execution_count": 46,
   "id": "cb035aee",
   "metadata": {},
   "outputs": [
    {
     "name": "stdout",
     "output_type": "stream",
     "text": [
      "[1.00000000e+00 3.59381366e+00 1.29154967e+01 4.64158883e+01\n",
      " 1.66810054e+02 5.99484250e+02 2.15443469e+03 7.74263683e+03\n",
      " 2.78255940e+04 1.00000000e+05]\n"
     ]
    }
   ],
   "source": [
    "print(np.logspace(0,5,10))"
   ]
  },
  {
   "cell_type": "code",
   "execution_count": 49,
   "id": "7f4b15ae",
   "metadata": {},
   "outputs": [],
   "source": [
    "lista = [[13,81,22],[0,34,59],[21,48,94]]"
   ]
  },
  {
   "cell_type": "code",
   "execution_count": 50,
   "id": "a97535eb",
   "metadata": {},
   "outputs": [],
   "source": [
    "arr11 = np.matrix(lista)"
   ]
  },
  {
   "cell_type": "code",
   "execution_count": 51,
   "id": "a81f8187",
   "metadata": {},
   "outputs": [
    {
     "data": {
      "text/plain": [
       "numpy.matrix"
      ]
     },
     "execution_count": 51,
     "metadata": {},
     "output_type": "execute_result"
    }
   ],
   "source": [
    "type(arr11)"
   ]
  },
  {
   "cell_type": "code",
   "execution_count": 52,
   "id": "63841c51",
   "metadata": {},
   "outputs": [
    {
     "name": "stdout",
     "output_type": "stream",
     "text": [
      "[[13 81 22]\n",
      " [ 0 34 59]\n",
      " [21 48 94]]\n"
     ]
    }
   ],
   "source": [
    "\n",
    "print(arr11)"
   ]
  }
 ],
 "metadata": {
  "kernelspec": {
   "display_name": "Python 3",
   "language": "python",
   "name": "python3"
  },
  "language_info": {
   "codemirror_mode": {
    "name": "ipython",
    "version": 3
   },
   "file_extension": ".py",
   "mimetype": "text/x-python",
   "name": "python",
   "nbconvert_exporter": "python",
   "pygments_lexer": "ipython3",
   "version": "3.13.4"
  }
 },
 "nbformat": 4,
 "nbformat_minor": 5
}
